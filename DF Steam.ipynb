{
 "cells": [
  {
   "cell_type": "markdown",
   "metadata": {},
   "source": [
    "#### Libraries"
   ]
  },
  {
   "cell_type": "code",
   "execution_count": 5,
   "metadata": {},
   "outputs": [],
   "source": [
    "#Libraries\n",
    "import pandas as pd\n",
    "import numpy as np\n",
    "import matplotlib.pyplot as plt\n",
    "import seaborn as sns\n",
    "from tqdm import tqdm\n",
    "\n",
    "#Options\n",
    "pd.options.display.float_format = '{:.2f}'.format"
   ]
  },
  {
   "cell_type": "markdown",
   "metadata": {},
   "source": [
    "***"
   ]
  },
  {
   "cell_type": "markdown",
   "metadata": {},
   "source": [
    "#### Datasets"
   ]
  },
  {
   "cell_type": "code",
   "execution_count": 6,
   "metadata": {},
   "outputs": [],
   "source": [
    "#Datasets\n",
    "\n",
    "df1 = pd.read_csv(r\"C:\\Users\\gcuci\\Desktop\\The Bridge\\Proyectos\\DF\\steamspy_2021.csv\")\n",
    "df2 = pd.read_csv(r\"C:\\Users\\gcuci\\Desktop\\The Bridge\\Proyectos\\DF\\steamspy_2020.csv\")\n",
    "df3 = pd.read_csv(r\"C:\\Users\\gcuci\\Desktop\\The Bridge\\Proyectos\\DF\\steamspy_2019.csv\")\n",
    "\n",
    "#Main df\n",
    "df = pd.concat(map(pd.read_csv, [r\"C:\\Users\\gcuci\\Desktop\\The Bridge\\Proyectos\\DF\\steamspy_2021.csv\",\\\n",
    "     r\"C:\\Users\\gcuci\\Desktop\\The Bridge\\Proyectos\\DF\\steamspy_2020.csv\",\\\n",
    "         r\"C:\\Users\\gcuci\\Desktop\\The Bridge\\Proyectos\\DF\\steamspy_2019.csv\"]), ignore_index=True)"
   ]
  },
  {
   "cell_type": "code",
   "execution_count": 7,
   "metadata": {},
   "outputs": [
    {
     "data": {
      "text/html": [
       "<div>\n",
       "<style scoped>\n",
       "    .dataframe tbody tr th:only-of-type {\n",
       "        vertical-align: middle;\n",
       "    }\n",
       "\n",
       "    .dataframe tbody tr th {\n",
       "        vertical-align: top;\n",
       "    }\n",
       "\n",
       "    .dataframe thead th {\n",
       "        text-align: right;\n",
       "    }\n",
       "</style>\n",
       "<table border=\"1\" class=\"dataframe\">\n",
       "  <thead>\n",
       "    <tr style=\"text-align: right;\">\n",
       "      <th></th>\n",
       "      <th>Unnamed: 0</th>\n",
       "      <th>id</th>\n",
       "      <th>name</th>\n",
       "      <th>dev</th>\n",
       "      <th>publisher</th>\n",
       "      <th>genre</th>\n",
       "      <th>language</th>\n",
       "      <th>tags</th>\n",
       "      <th>category</th>\n",
       "      <th>release</th>\n",
       "      <th>actual_price</th>\n",
       "      <th>discount</th>\n",
       "      <th>old_userscore</th>\n",
       "      <th>metascore</th>\n",
       "      <th>owners</th>\n",
       "      <th>followers</th>\n",
       "    </tr>\n",
       "  </thead>\n",
       "  <tbody>\n",
       "    <tr>\n",
       "      <th>0</th>\n",
       "      <td>0</td>\n",
       "      <td>/app/1123450</td>\n",
       "      <td>Chicory: A Colorful Tale</td>\n",
       "      <td>['Alexis Dean-Jones', 'Madeline Berger', 'Finj...</td>\n",
       "      <td>['Finji']</td>\n",
       "      <td>['Adventure', 'Indie', 'RPG']</td>\n",
       "      <td>['English', 'French', 'Italian', 'German', 'Sp...</td>\n",
       "      <td>['Indie', 'Adventure', 'RPG', 'Great Soundtrac...</td>\n",
       "      <td>['Single-player', 'Multi-player', 'Co-op', 'Sh...</td>\n",
       "      <td>['Jun 10, 2021']</td>\n",
       "      <td>['$13.99']</td>\n",
       "      <td>['30%']</td>\n",
       "      <td>['98%']</td>\n",
       "      <td>['90%']</td>\n",
       "      <td>['20,000 - 50,000']</td>\n",
       "      <td>['9,432']</td>\n",
       "    </tr>\n",
       "    <tr>\n",
       "      <th>1</th>\n",
       "      <td>1</td>\n",
       "      <td>/app/1504500</td>\n",
       "      <td>OPUS: Echo of Starsong - Full Bloom Edition</td>\n",
       "      <td>['SIGONO INC.']</td>\n",
       "      <td>['SIGONO INC.']</td>\n",
       "      <td>['Adventure', 'Indie']</td>\n",
       "      <td>['English', 'Traditional Chinese', 'Japanese',...</td>\n",
       "      <td>['Story Rich', 'Visual Novel', 'Emotional', 'F...</td>\n",
       "      <td>['Single-player', 'Steam Achievements', 'Full ...</td>\n",
       "      <td>['Aug 31, 2021']</td>\n",
       "      <td>['$17.49']</td>\n",
       "      <td>['30%']</td>\n",
       "      <td>['97%']</td>\n",
       "      <td>['90%']</td>\n",
       "      <td>['100,000 - 200,000']</td>\n",
       "      <td>['22,399']</td>\n",
       "    </tr>\n",
       "    <tr>\n",
       "      <th>2</th>\n",
       "      <td>2</td>\n",
       "      <td>/app/607080</td>\n",
       "      <td>Psychonauts 2</td>\n",
       "      <td>['Double Fine Productions', 'Xbox Game Studios']</td>\n",
       "      <td>['Xbox Game Studios']</td>\n",
       "      <td>['Action', 'Adventure']</td>\n",
       "      <td>['English', 'French', 'Italian', 'German', 'Sp...</td>\n",
       "      <td>['Story Rich', '3D Platformer', 'Comedy', 'Psy...</td>\n",
       "      <td>['Single-player', 'Steam Achievements', 'Full ...</td>\n",
       "      <td>['Aug 24, 2021']</td>\n",
       "      <td>['$29.99']</td>\n",
       "      <td>['50%']</td>\n",
       "      <td>['97%']</td>\n",
       "      <td>['89%']</td>\n",
       "      <td>['100,000 - 200,000']</td>\n",
       "      <td>['32,985']</td>\n",
       "    </tr>\n",
       "    <tr>\n",
       "      <th>3</th>\n",
       "      <td>3</td>\n",
       "      <td>/app/1426210</td>\n",
       "      <td>It Takes Two</td>\n",
       "      <td>['Hazelight', 'Electronic Arts']</td>\n",
       "      <td>['Electronic Arts']</td>\n",
       "      <td>['Action', 'Adventure']</td>\n",
       "      <td>['English', 'French', 'Italian', 'German', 'Sp...</td>\n",
       "      <td>['Co-op', 'Multiplayer', 'Split Screen', 'Puzz...</td>\n",
       "      <td>['Multi-player', 'Co-op', 'Online Co-op', 'Sha...</td>\n",
       "      <td>['Mar 25, 2021']</td>\n",
       "      <td>['$15.99']</td>\n",
       "      <td>['60%']</td>\n",
       "      <td>['96%']</td>\n",
       "      <td>['89%']</td>\n",
       "      <td>['2,000,000 - 5,000,000']</td>\n",
       "      <td>['283,575']</td>\n",
       "    </tr>\n",
       "    <tr>\n",
       "      <th>4</th>\n",
       "      <td>4</td>\n",
       "      <td>/app/1345820</td>\n",
       "      <td>Ragnarock</td>\n",
       "      <td>['WanadevStudio']</td>\n",
       "      <td>['WanadevStudio']</td>\n",
       "      <td>['Casual', 'Indie', 'Racing', 'Sports']</td>\n",
       "      <td>['English', 'French', 'Italian', 'German', 'Sp...</td>\n",
       "      <td>['Rhythm', 'VR', 'Multiplayer', 'Music', 'Raci...</td>\n",
       "      <td>['Single-player', 'Multi-player', 'PvP', 'Onli...</td>\n",
       "      <td>['Jul 15, 2021']</td>\n",
       "      <td>['$14.99']</td>\n",
       "      <td>['40%']</td>\n",
       "      <td>['95%']</td>\n",
       "      <td>['87%']</td>\n",
       "      <td>['50,000 - 100,000']</td>\n",
       "      <td>['6,886']</td>\n",
       "    </tr>\n",
       "  </tbody>\n",
       "</table>\n",
       "</div>"
      ],
      "text/plain": [
       "   Unnamed: 0            id                                         name  \\\n",
       "0           0  /app/1123450                     Chicory: A Colorful Tale   \n",
       "1           1  /app/1504500  OPUS: Echo of Starsong - Full Bloom Edition   \n",
       "2           2   /app/607080                                Psychonauts 2   \n",
       "3           3  /app/1426210                                 It Takes Two   \n",
       "4           4  /app/1345820                                    Ragnarock   \n",
       "\n",
       "                                                 dev              publisher  \\\n",
       "0  ['Alexis Dean-Jones', 'Madeline Berger', 'Finj...              ['Finji']   \n",
       "1                                    ['SIGONO INC.']        ['SIGONO INC.']   \n",
       "2   ['Double Fine Productions', 'Xbox Game Studios']  ['Xbox Game Studios']   \n",
       "3                   ['Hazelight', 'Electronic Arts']    ['Electronic Arts']   \n",
       "4                                  ['WanadevStudio']      ['WanadevStudio']   \n",
       "\n",
       "                                     genre  \\\n",
       "0            ['Adventure', 'Indie', 'RPG']   \n",
       "1                   ['Adventure', 'Indie']   \n",
       "2                  ['Action', 'Adventure']   \n",
       "3                  ['Action', 'Adventure']   \n",
       "4  ['Casual', 'Indie', 'Racing', 'Sports']   \n",
       "\n",
       "                                            language  \\\n",
       "0  ['English', 'French', 'Italian', 'German', 'Sp...   \n",
       "1  ['English', 'Traditional Chinese', 'Japanese',...   \n",
       "2  ['English', 'French', 'Italian', 'German', 'Sp...   \n",
       "3  ['English', 'French', 'Italian', 'German', 'Sp...   \n",
       "4  ['English', 'French', 'Italian', 'German', 'Sp...   \n",
       "\n",
       "                                                tags  \\\n",
       "0  ['Indie', 'Adventure', 'RPG', 'Great Soundtrac...   \n",
       "1  ['Story Rich', 'Visual Novel', 'Emotional', 'F...   \n",
       "2  ['Story Rich', '3D Platformer', 'Comedy', 'Psy...   \n",
       "3  ['Co-op', 'Multiplayer', 'Split Screen', 'Puzz...   \n",
       "4  ['Rhythm', 'VR', 'Multiplayer', 'Music', 'Raci...   \n",
       "\n",
       "                                            category           release  \\\n",
       "0  ['Single-player', 'Multi-player', 'Co-op', 'Sh...  ['Jun 10, 2021']   \n",
       "1  ['Single-player', 'Steam Achievements', 'Full ...  ['Aug 31, 2021']   \n",
       "2  ['Single-player', 'Steam Achievements', 'Full ...  ['Aug 24, 2021']   \n",
       "3  ['Multi-player', 'Co-op', 'Online Co-op', 'Sha...  ['Mar 25, 2021']   \n",
       "4  ['Single-player', 'Multi-player', 'PvP', 'Onli...  ['Jul 15, 2021']   \n",
       "\n",
       "  actual_price discount old_userscore metascore                     owners  \\\n",
       "0   ['$13.99']  ['30%']       ['98%']   ['90%']        ['20,000 - 50,000']   \n",
       "1   ['$17.49']  ['30%']       ['97%']   ['90%']      ['100,000 - 200,000']   \n",
       "2   ['$29.99']  ['50%']       ['97%']   ['89%']      ['100,000 - 200,000']   \n",
       "3   ['$15.99']  ['60%']       ['96%']   ['89%']  ['2,000,000 - 5,000,000']   \n",
       "4   ['$14.99']  ['40%']       ['95%']   ['87%']       ['50,000 - 100,000']   \n",
       "\n",
       "     followers  \n",
       "0    ['9,432']  \n",
       "1   ['22,399']  \n",
       "2   ['32,985']  \n",
       "3  ['283,575']  \n",
       "4    ['6,886']  "
      ]
     },
     "execution_count": 7,
     "metadata": {},
     "output_type": "execute_result"
    }
   ],
   "source": [
    "df.head()"
   ]
  },
  {
   "cell_type": "code",
   "execution_count": 8,
   "metadata": {},
   "outputs": [
    {
     "data": {
      "text/plain": [
       "Unnamed: 0        int64\n",
       "id               object\n",
       "name             object\n",
       "dev              object\n",
       "publisher        object\n",
       "genre            object\n",
       "language         object\n",
       "tags             object\n",
       "category         object\n",
       "release          object\n",
       "actual_price     object\n",
       "discount         object\n",
       "old_userscore    object\n",
       "metascore        object\n",
       "owners           object\n",
       "followers        object\n",
       "dtype: object"
      ]
     },
     "execution_count": 8,
     "metadata": {},
     "output_type": "execute_result"
    }
   ],
   "source": [
    "df.dtypes"
   ]
  },
  {
   "cell_type": "code",
   "execution_count": 9,
   "metadata": {},
   "outputs": [
    {
     "name": "stdout",
     "output_type": "stream",
     "text": [
      "<class 'pandas.core.frame.DataFrame'>\n",
      "RangeIndex: 27877 entries, 0 to 27876\n",
      "Data columns (total 16 columns):\n",
      " #   Column         Non-Null Count  Dtype \n",
      "---  ------         --------------  ----- \n",
      " 0   Unnamed: 0     27877 non-null  int64 \n",
      " 1   id             27877 non-null  object\n",
      " 2   name           27875 non-null  object\n",
      " 3   dev            27876 non-null  object\n",
      " 4   publisher      27876 non-null  object\n",
      " 5   genre          27876 non-null  object\n",
      " 6   language       27876 non-null  object\n",
      " 7   tags           27876 non-null  object\n",
      " 8   category       27876 non-null  object\n",
      " 9   release        27876 non-null  object\n",
      " 10  actual_price   27876 non-null  object\n",
      " 11  discount       27876 non-null  object\n",
      " 12  old_userscore  27876 non-null  object\n",
      " 13  metascore      27876 non-null  object\n",
      " 14  owners         27876 non-null  object\n",
      " 15  followers      27876 non-null  object\n",
      "dtypes: int64(1), object(15)\n",
      "memory usage: 3.4+ MB\n"
     ]
    }
   ],
   "source": [
    "df.info()"
   ]
  },
  {
   "cell_type": "markdown",
   "metadata": {},
   "source": [
    "***"
   ]
  },
  {
   "cell_type": "markdown",
   "metadata": {},
   "source": [
    "#### Finding nulls"
   ]
  },
  {
   "cell_type": "code",
   "execution_count": 10,
   "metadata": {},
   "outputs": [
    {
     "data": {
      "text/html": [
       "<div>\n",
       "<style scoped>\n",
       "    .dataframe tbody tr th:only-of-type {\n",
       "        vertical-align: middle;\n",
       "    }\n",
       "\n",
       "    .dataframe tbody tr th {\n",
       "        vertical-align: top;\n",
       "    }\n",
       "\n",
       "    .dataframe thead th {\n",
       "        text-align: right;\n",
       "    }\n",
       "</style>\n",
       "<table border=\"1\" class=\"dataframe\">\n",
       "  <thead>\n",
       "    <tr style=\"text-align: right;\">\n",
       "      <th></th>\n",
       "      <th>Unnamed: 0</th>\n",
       "      <th>id</th>\n",
       "      <th>name</th>\n",
       "      <th>dev</th>\n",
       "      <th>publisher</th>\n",
       "      <th>genre</th>\n",
       "      <th>language</th>\n",
       "      <th>tags</th>\n",
       "      <th>category</th>\n",
       "      <th>release</th>\n",
       "      <th>actual_price</th>\n",
       "      <th>discount</th>\n",
       "      <th>old_userscore</th>\n",
       "      <th>metascore</th>\n",
       "      <th>owners</th>\n",
       "      <th>followers</th>\n",
       "    </tr>\n",
       "  </thead>\n",
       "  <tbody>\n",
       "    <tr>\n",
       "      <th>10824</th>\n",
       "      <td>287</td>\n",
       "      <td>/app/1195390</td>\n",
       "      <td>NaN</td>\n",
       "      <td>['', ' ']</td>\n",
       "      <td>[' ']</td>\n",
       "      <td>['']</td>\n",
       "      <td>[]</td>\n",
       "      <td>[]</td>\n",
       "      <td>['']</td>\n",
       "      <td>['Mar 14, 2020']</td>\n",
       "      <td>[]</td>\n",
       "      <td>[]</td>\n",
       "      <td>[]</td>\n",
       "      <td>[]</td>\n",
       "      <td>['0 - 20,000']</td>\n",
       "      <td>['185']</td>\n",
       "    </tr>\n",
       "    <tr>\n",
       "      <th>25190</th>\n",
       "      <td>5111</td>\n",
       "      <td>/app/1116910</td>\n",
       "      <td>NaN</td>\n",
       "      <td>['']</td>\n",
       "      <td>['']</td>\n",
       "      <td>['Action', 'Adventure', 'Casual', 'Indie', 'RP...</td>\n",
       "      <td>[]</td>\n",
       "      <td>['Casual', 'Adventure', 'Indie', 'Strategy', '...</td>\n",
       "      <td>['Single-player', 'Steam Cloud']</td>\n",
       "      <td>['Sep 25, 2019']</td>\n",
       "      <td>['$6.99']</td>\n",
       "      <td>[]</td>\n",
       "      <td>[]</td>\n",
       "      <td>[]</td>\n",
       "      <td>['0 - 20,000']</td>\n",
       "      <td>['565']</td>\n",
       "    </tr>\n",
       "  </tbody>\n",
       "</table>\n",
       "</div>"
      ],
      "text/plain": [
       "       Unnamed: 0            id name        dev publisher  \\\n",
       "10824         287  /app/1195390  NaN  ['', ' ']     [' ']   \n",
       "25190        5111  /app/1116910  NaN       ['']      ['']   \n",
       "\n",
       "                                                   genre language  \\\n",
       "10824                                               ['']       []   \n",
       "25190  ['Action', 'Adventure', 'Casual', 'Indie', 'RP...       []   \n",
       "\n",
       "                                                    tags  \\\n",
       "10824                                                 []   \n",
       "25190  ['Casual', 'Adventure', 'Indie', 'Strategy', '...   \n",
       "\n",
       "                               category           release actual_price  \\\n",
       "10824                              ['']  ['Mar 14, 2020']           []   \n",
       "25190  ['Single-player', 'Steam Cloud']  ['Sep 25, 2019']    ['$6.99']   \n",
       "\n",
       "      discount old_userscore metascore          owners followers  \n",
       "10824       []            []        []  ['0 - 20,000']   ['185']  \n",
       "25190       []            []        []  ['0 - 20,000']   ['565']  "
      ]
     },
     "execution_count": 10,
     "metadata": {},
     "output_type": "execute_result"
    }
   ],
   "source": [
    "#Finding nulls\n",
    "df[df[\"name\"].isnull()]"
   ]
  },
  {
   "cell_type": "code",
   "execution_count": 11,
   "metadata": {},
   "outputs": [
    {
     "data": {
      "text/html": [
       "<div>\n",
       "<style scoped>\n",
       "    .dataframe tbody tr th:only-of-type {\n",
       "        vertical-align: middle;\n",
       "    }\n",
       "\n",
       "    .dataframe tbody tr th {\n",
       "        vertical-align: top;\n",
       "    }\n",
       "\n",
       "    .dataframe thead th {\n",
       "        text-align: right;\n",
       "    }\n",
       "</style>\n",
       "<table border=\"1\" class=\"dataframe\">\n",
       "  <thead>\n",
       "    <tr style=\"text-align: right;\">\n",
       "      <th></th>\n",
       "      <th>Unnamed: 0</th>\n",
       "      <th>id</th>\n",
       "      <th>name</th>\n",
       "      <th>dev</th>\n",
       "      <th>publisher</th>\n",
       "      <th>genre</th>\n",
       "      <th>language</th>\n",
       "      <th>tags</th>\n",
       "      <th>category</th>\n",
       "      <th>release</th>\n",
       "      <th>actual_price</th>\n",
       "      <th>discount</th>\n",
       "      <th>old_userscore</th>\n",
       "      <th>metascore</th>\n",
       "      <th>owners</th>\n",
       "      <th>followers</th>\n",
       "    </tr>\n",
       "  </thead>\n",
       "  <tbody>\n",
       "    <tr>\n",
       "      <th>6937</th>\n",
       "      <td>6937</td>\n",
       "      <td>/app/1718040</td>\n",
       "      <td>Clarence Goes to the F&amp;#%ING Store</td>\n",
       "      <td>NaN</td>\n",
       "      <td>NaN</td>\n",
       "      <td>NaN</td>\n",
       "      <td>NaN</td>\n",
       "      <td>NaN</td>\n",
       "      <td>NaN</td>\n",
       "      <td>NaN</td>\n",
       "      <td>NaN</td>\n",
       "      <td>NaN</td>\n",
       "      <td>NaN</td>\n",
       "      <td>NaN</td>\n",
       "      <td>NaN</td>\n",
       "      <td>NaN</td>\n",
       "    </tr>\n",
       "  </tbody>\n",
       "</table>\n",
       "</div>"
      ],
      "text/plain": [
       "      Unnamed: 0            id                                name  dev  \\\n",
       "6937        6937  /app/1718040  Clarence Goes to the F&#%ING Store  NaN   \n",
       "\n",
       "     publisher genre language tags category release actual_price discount  \\\n",
       "6937       NaN   NaN      NaN  NaN      NaN     NaN          NaN      NaN   \n",
       "\n",
       "     old_userscore metascore owners followers  \n",
       "6937           NaN       NaN    NaN       NaN  "
      ]
     },
     "execution_count": 11,
     "metadata": {},
     "output_type": "execute_result"
    }
   ],
   "source": [
    "#Finding nulls\n",
    "df[df[\"dev\"].isnull()]"
   ]
  },
  {
   "cell_type": "markdown",
   "metadata": {},
   "source": [
    "***"
   ]
  },
  {
   "cell_type": "markdown",
   "metadata": {},
   "source": [
    "#### Fixing df\n"
   ]
  },
  {
   "cell_type": "code",
   "execution_count": 12,
   "metadata": {},
   "outputs": [],
   "source": [
    "#Fixing df\n",
    "df.dropna(inplace = True)\n",
    "df.drop([\"Unnamed: 0\"], axis = 1, inplace = True)\n",
    "changes_in_rows = [\"\\[\", \"\\]\", \"\\'\", \"%\", \"\\$\", \"/app/\"]\n",
    "for i in changes_in_rows:\n",
    "    df.replace(i, \"\", regex = True, inplace = True)\n",
    "df.reset_index(drop = True, inplace = True)"
   ]
  },
  {
   "cell_type": "markdown",
   "metadata": {},
   "source": [
    "***"
   ]
  },
  {
   "cell_type": "markdown",
   "metadata": {},
   "source": [
    "#### Changing types in columns"
   ]
  },
  {
   "cell_type": "code",
   "execution_count": 13,
   "metadata": {},
   "outputs": [],
   "source": [
    "#Changing types in columns\n",
    "df[\"release\"] = pd.to_datetime(df[\"release\"])\n",
    "df[\"discount\"] = df[\"discount\"].replace(\"\",0).astype(int)\n",
    "df[\"actual_price\"] = df[\"actual_price\"].replace(\"\",0).astype(float)\n",
    "df[\"old_userscore\"] = df[\"old_userscore\"].replace(\"\",0).astype(int)\n",
    "df[\"metascore\"] = df[\"metascore\"].replace(\"\",0).astype(int)\n",
    "df[\"followers\"] = df[\"followers\"].str.replace(\",\",\"\").replace(\"\",0).astype(int)"
   ]
  },
  {
   "cell_type": "code",
   "execution_count": 14,
   "metadata": {},
   "outputs": [
    {
     "data": {
      "text/plain": [
       "id                       object\n",
       "name                     object\n",
       "dev                      object\n",
       "publisher                object\n",
       "genre                    object\n",
       "language                 object\n",
       "tags                     object\n",
       "category                 object\n",
       "release          datetime64[ns]\n",
       "actual_price            float64\n",
       "discount                  int32\n",
       "old_userscore             int32\n",
       "metascore                 int32\n",
       "owners                   object\n",
       "followers                 int32\n",
       "dtype: object"
      ]
     },
     "execution_count": 14,
     "metadata": {},
     "output_type": "execute_result"
    }
   ],
   "source": [
    "df.dtypes"
   ]
  },
  {
   "cell_type": "markdown",
   "metadata": {},
   "source": [
    "***"
   ]
  },
  {
   "cell_type": "markdown",
   "metadata": {},
   "source": [
    "#### New columns"
   ]
  },
  {
   "cell_type": "code",
   "execution_count": 15,
   "metadata": {},
   "outputs": [],
   "source": [
    "#New columns\n",
    "\n",
    "#Initial price\n",
    "df[\"initial_price\"] = df[\"actual_price\"] / (1 - ( df[\"discount\"] / 100))\n",
    "df[\"initial_price\"] = df[\"initial_price\"].round()\n",
    "df.replace([np.inf, -np.inf], 0, inplace = True)\n",
    "column_to_move = df.pop(\"initial_price\")\n",
    "df.insert(9, \"initial_price\", column_to_move)\n",
    "df['initial_price'] = df['initial_price'].astype(int)\n",
    "\n",
    "#Genre_lst, colunma de genero guardado como una lista\n",
    "df[\"genre_lst\"] = df[\"genre\"].replace(', ', ',', regex= True, inplace= True)\n",
    "df[\"genre_lst\"] = df.genre.apply(lambda x: x[:].split(\",\"))\n",
    "\n",
    "#Sales to category\n",
    "conditions = [(df[\"owners\"] == \"50,000,000 - 100,000,000\"), (df[\"owners\"] == \"20,000,000 - 50,000,000\"),\\\n",
    "    (df[\"owners\"] == \"10,000,000 - 20,000,000\"), (df[\"owners\"] == \"5,000,000 - 10,000,000\"),\\\n",
    "        (df[\"owners\"] == \"2,000,000 - 5,000,000\"), (df[\"owners\"] == \"1,000,000 - 2,000,000\"),\\\n",
    "            (df[\"owners\"] == \"500,000 - 1,000,000\"), (df[\"owners\"] == \"200,000 - 500,000\"),\\\n",
    "                (df[\"owners\"] == \"100,000 - 200,000\"), (df[\"owners\"] == \"50,000 - 100,000\"),\\\n",
    "                    (df[\"owners\"] == \"20,000 - 50,000\"), (df[\"owners\"] == \"0 - 20,000\")]\n",
    "\n",
    "category = [1,2,3,4,5,6,7,8,9,10,11,12]\n",
    "\n",
    "mean_sales = [75000000, 35000000, 15000000, 7500000, 3500000, 1500000, 750000, 350000, 150000, 75000, 35000, 10000]\n",
    "\n",
    "#Mean sales \n",
    "df[\"mean_sales\"] = np.select(conditions, mean_sales)\n",
    "column_to_move = df.pop(\"mean_sales\")\n",
    "df.insert(11, \"mean_sales\", column_to_move)\n",
    "\n",
    "#Total sales in usd\n",
    "df[\"total_sales\"]= df[\"mean_sales\"] * df[\"initial_price\"]\n",
    "column_to_move = df.pop(\"total_sales\")\n",
    "df.insert(12, \"total_sales\", column_to_move)\n",
    "\n",
    "#Category sales\n",
    "df[\"category_sales\"] = np.select(conditions, category)\n",
    "column_to_move = df.pop(\"category_sales\")\n",
    "df.insert(13, \"category_sales\", column_to_move)"
   ]
  },
  {
   "cell_type": "markdown",
   "metadata": {},
   "source": [
    "***"
   ]
  },
  {
   "cell_type": "markdown",
   "metadata": {},
   "source": [
    "####  Failed attempt"
   ]
  },
  {
   "cell_type": "code",
   "execution_count": 16,
   "metadata": {},
   "outputs": [],
   "source": [
    "#Altering Amazon sales New world\\\n",
    "# (Intente cambiar el valor de la venta del juego New World de Amazon pero no consegui la forma, dice que el valor es muy grande)\n",
    "df.drop([183], axis = 0 , inplace = True)\n",
    "df.reset_index(drop = True, inplace = True)"
   ]
  },
  {
   "cell_type": "markdown",
   "metadata": {},
   "source": [
    "***"
   ]
  },
  {
   "cell_type": "markdown",
   "metadata": {},
   "source": [
    "#### Variables"
   ]
  },
  {
   "cell_type": "code",
   "execution_count": 17,
   "metadata": {},
   "outputs": [],
   "source": [
    "#Variables\n",
    "\n",
    "#Genders_lst\n",
    "genre_lst = pd.Series(np.concatenate(df.genre_lst))\n",
    "genre_total = genre_lst.value_counts().sort_index().rename_axis(\"genre\")\\\n",
    "    .reset_index(name = \"count\")\n",
    "\n",
    "#DF whiout free to play games\n",
    "free_to_play = df[\"initial_price\"] != 0\n",
    "df_whitouth_free = df[free_to_play]\n",
    "\n",
    "#Total of games\n",
    "total_games = df.shape[0]\n",
    "\n",
    "df_owners_sales = df[[\"owners\", \"category_sales\", \"mean_sales\"]].sort_values\\\n",
    "    (by = \"category_sales\").drop_duplicates()\n",
    "\n",
    "#DF with Indies\n",
    "df_indie = df[df[\"genre\"].str.contains(\"Indie\")]\n",
    "\n",
    "#DF without Indies\n",
    "df_not_indie = df[~df[\"genre\"].str.contains(\"Indie\")]\n",
    "\n",
    "#Juegos que superaron las 100K copias\n",
    "more_than_100k = df[df[\"category_sales\"] <= 9].shape[0]\n",
    "\n",
    "#Juegos que vendieron mas de un millon de copias\n",
    "more_than_1_million = df[df[\"category_sales\"] <= 6].shape[0]\n",
    "\n",
    "#Total juegos Indie\n",
    "total_indies = df_indie.shape[0]\n",
    "\n",
    "#Total juegos AAA\n",
    "total_AAA = df_not_indie.shape[0]\n",
    "\n",
    "#Ventas de videojuegos por dia\n",
    "sales_per_day = df[\"mean_sales\"].sum()"
   ]
  },
  {
   "cell_type": "markdown",
   "metadata": {},
   "source": [
    "***"
   ]
  },
  {
   "cell_type": "markdown",
   "metadata": {},
   "source": [
    "#### Eliminated games from Steam"
   ]
  },
  {
   "cell_type": "code",
   "execution_count": 18,
   "metadata": {},
   "outputs": [
    {
     "data": {
      "text/html": [
       "<div>\n",
       "<style scoped>\n",
       "    .dataframe tbody tr th:only-of-type {\n",
       "        vertical-align: middle;\n",
       "    }\n",
       "\n",
       "    .dataframe tbody tr th {\n",
       "        vertical-align: top;\n",
       "    }\n",
       "\n",
       "    .dataframe thead th {\n",
       "        text-align: right;\n",
       "    }\n",
       "</style>\n",
       "<table border=\"1\" class=\"dataframe\">\n",
       "  <thead>\n",
       "    <tr style=\"text-align: right;\">\n",
       "      <th></th>\n",
       "      <th>id</th>\n",
       "      <th>name</th>\n",
       "      <th>dev</th>\n",
       "      <th>publisher</th>\n",
       "      <th>genre</th>\n",
       "      <th>language</th>\n",
       "      <th>tags</th>\n",
       "      <th>category</th>\n",
       "      <th>release</th>\n",
       "      <th>initial_price</th>\n",
       "      <th>actual_price</th>\n",
       "      <th>mean_sales</th>\n",
       "      <th>total_sales</th>\n",
       "      <th>category_sales</th>\n",
       "      <th>discount</th>\n",
       "      <th>old_userscore</th>\n",
       "      <th>metascore</th>\n",
       "      <th>owners</th>\n",
       "      <th>followers</th>\n",
       "      <th>genre_lst</th>\n",
       "    </tr>\n",
       "  </thead>\n",
       "  <tbody>\n",
       "    <tr>\n",
       "      <th>222</th>\n",
       "      <td>1504950</td>\n",
       "      <td>Rogue Card Playtest</td>\n",
       "      <td></td>\n",
       "      <td></td>\n",
       "      <td></td>\n",
       "      <td></td>\n",
       "      <td></td>\n",
       "      <td></td>\n",
       "      <td>2021-01-03</td>\n",
       "      <td>0</td>\n",
       "      <td>0.00</td>\n",
       "      <td>10000</td>\n",
       "      <td>0</td>\n",
       "      <td>12</td>\n",
       "      <td>0</td>\n",
       "      <td>0</td>\n",
       "      <td>0</td>\n",
       "      <td>0 - 20,000</td>\n",
       "      <td>0</td>\n",
       "      <td>[]</td>\n",
       "    </tr>\n",
       "    <tr>\n",
       "      <th>223</th>\n",
       "      <td>1470080</td>\n",
       "      <td>NEX:OS Playtest</td>\n",
       "      <td></td>\n",
       "      <td></td>\n",
       "      <td></td>\n",
       "      <td></td>\n",
       "      <td></td>\n",
       "      <td></td>\n",
       "      <td>2021-01-07</td>\n",
       "      <td>0</td>\n",
       "      <td>0.00</td>\n",
       "      <td>10000</td>\n",
       "      <td>0</td>\n",
       "      <td>12</td>\n",
       "      <td>0</td>\n",
       "      <td>0</td>\n",
       "      <td>0</td>\n",
       "      <td>0 - 20,000</td>\n",
       "      <td>3</td>\n",
       "      <td>[]</td>\n",
       "    </tr>\n",
       "    <tr>\n",
       "      <th>225</th>\n",
       "      <td>1512420</td>\n",
       "      <td>The Deep Deep Playtest</td>\n",
       "      <td></td>\n",
       "      <td></td>\n",
       "      <td></td>\n",
       "      <td></td>\n",
       "      <td></td>\n",
       "      <td></td>\n",
       "      <td>2021-01-10</td>\n",
       "      <td>0</td>\n",
       "      <td>0.00</td>\n",
       "      <td>10000</td>\n",
       "      <td>0</td>\n",
       "      <td>12</td>\n",
       "      <td>0</td>\n",
       "      <td>0</td>\n",
       "      <td>0</td>\n",
       "      <td>0 - 20,000</td>\n",
       "      <td>2</td>\n",
       "      <td>[]</td>\n",
       "    </tr>\n",
       "    <tr>\n",
       "      <th>226</th>\n",
       "      <td>1481270</td>\n",
       "      <td>Oddinary Highway Playtest</td>\n",
       "      <td></td>\n",
       "      <td></td>\n",
       "      <td></td>\n",
       "      <td></td>\n",
       "      <td></td>\n",
       "      <td></td>\n",
       "      <td>2021-01-14</td>\n",
       "      <td>0</td>\n",
       "      <td>0.00</td>\n",
       "      <td>10000</td>\n",
       "      <td>0</td>\n",
       "      <td>12</td>\n",
       "      <td>0</td>\n",
       "      <td>0</td>\n",
       "      <td>0</td>\n",
       "      <td>0 - 20,000</td>\n",
       "      <td>3</td>\n",
       "      <td>[]</td>\n",
       "    </tr>\n",
       "    <tr>\n",
       "      <th>227</th>\n",
       "      <td>1502740</td>\n",
       "      <td>Harvest Island Playtest</td>\n",
       "      <td></td>\n",
       "      <td></td>\n",
       "      <td></td>\n",
       "      <td></td>\n",
       "      <td></td>\n",
       "      <td></td>\n",
       "      <td>2021-01-15</td>\n",
       "      <td>0</td>\n",
       "      <td>0.00</td>\n",
       "      <td>10000</td>\n",
       "      <td>0</td>\n",
       "      <td>12</td>\n",
       "      <td>0</td>\n",
       "      <td>0</td>\n",
       "      <td>0</td>\n",
       "      <td>0 - 20,000</td>\n",
       "      <td>0</td>\n",
       "      <td>[]</td>\n",
       "    </tr>\n",
       "  </tbody>\n",
       "</table>\n",
       "</div>"
      ],
      "text/plain": [
       "          id                       name dev publisher genre language tags  \\\n",
       "222  1504950        Rogue Card Playtest                                     \n",
       "223  1470080            NEX:OS Playtest                                     \n",
       "225  1512420     The Deep Deep Playtest                                     \n",
       "226  1481270  Oddinary Highway Playtest                                     \n",
       "227  1502740    Harvest Island Playtest                                     \n",
       "\n",
       "    category    release  initial_price  actual_price  mean_sales  total_sales  \\\n",
       "222          2021-01-03              0          0.00       10000            0   \n",
       "223          2021-01-07              0          0.00       10000            0   \n",
       "225          2021-01-10              0          0.00       10000            0   \n",
       "226          2021-01-14              0          0.00       10000            0   \n",
       "227          2021-01-15              0          0.00       10000            0   \n",
       "\n",
       "     category_sales  discount  old_userscore  metascore      owners  \\\n",
       "222              12         0              0          0  0 - 20,000   \n",
       "223              12         0              0          0  0 - 20,000   \n",
       "225              12         0              0          0  0 - 20,000   \n",
       "226              12         0              0          0  0 - 20,000   \n",
       "227              12         0              0          0  0 - 20,000   \n",
       "\n",
       "     followers genre_lst  \n",
       "222          0        []  \n",
       "223          3        []  \n",
       "225          2        []  \n",
       "226          3        []  \n",
       "227          0        []  "
      ]
     },
     "execution_count": 18,
     "metadata": {},
     "output_type": "execute_result"
    }
   ],
   "source": [
    "#games without publisher, eliminated from steam(88)\n",
    "df[df[\"publisher\"] == \"\"].head()"
   ]
  },
  {
   "cell_type": "markdown",
   "metadata": {},
   "source": [
    "***"
   ]
  },
  {
   "cell_type": "markdown",
   "metadata": {},
   "source": [
    "#### Final df"
   ]
  },
  {
   "cell_type": "code",
   "execution_count": 19,
   "metadata": {},
   "outputs": [
    {
     "data": {
      "text/html": [
       "<div>\n",
       "<style scoped>\n",
       "    .dataframe tbody tr th:only-of-type {\n",
       "        vertical-align: middle;\n",
       "    }\n",
       "\n",
       "    .dataframe tbody tr th {\n",
       "        vertical-align: top;\n",
       "    }\n",
       "\n",
       "    .dataframe thead th {\n",
       "        text-align: right;\n",
       "    }\n",
       "</style>\n",
       "<table border=\"1\" class=\"dataframe\">\n",
       "  <thead>\n",
       "    <tr style=\"text-align: right;\">\n",
       "      <th></th>\n",
       "      <th>id</th>\n",
       "      <th>name</th>\n",
       "      <th>dev</th>\n",
       "      <th>publisher</th>\n",
       "      <th>genre</th>\n",
       "      <th>language</th>\n",
       "      <th>tags</th>\n",
       "      <th>category</th>\n",
       "      <th>release</th>\n",
       "      <th>initial_price</th>\n",
       "      <th>actual_price</th>\n",
       "      <th>mean_sales</th>\n",
       "      <th>total_sales</th>\n",
       "      <th>category_sales</th>\n",
       "      <th>discount</th>\n",
       "      <th>old_userscore</th>\n",
       "      <th>metascore</th>\n",
       "      <th>owners</th>\n",
       "      <th>followers</th>\n",
       "      <th>genre_lst</th>\n",
       "    </tr>\n",
       "  </thead>\n",
       "  <tbody>\n",
       "    <tr>\n",
       "      <th>0</th>\n",
       "      <td>1123450</td>\n",
       "      <td>Chicory: A Colorful Tale</td>\n",
       "      <td>Alexis Dean-Jones, Madeline Berger, Finji, A S...</td>\n",
       "      <td>Finji</td>\n",
       "      <td>Adventure,Indie,RPG</td>\n",
       "      <td>English, French, Italian, German, Spanish - Sp...</td>\n",
       "      <td>Indie, Adventure, RPG, Great Soundtrack, Emoti...</td>\n",
       "      <td>Single-player, Multi-player, Co-op, Shared/Spl...</td>\n",
       "      <td>2021-06-10</td>\n",
       "      <td>20</td>\n",
       "      <td>13.99</td>\n",
       "      <td>35000</td>\n",
       "      <td>700000</td>\n",
       "      <td>11</td>\n",
       "      <td>30</td>\n",
       "      <td>98</td>\n",
       "      <td>90</td>\n",
       "      <td>20,000 - 50,000</td>\n",
       "      <td>9432</td>\n",
       "      <td>[Adventure, Indie, RPG]</td>\n",
       "    </tr>\n",
       "    <tr>\n",
       "      <th>1</th>\n",
       "      <td>1504500</td>\n",
       "      <td>OPUS: Echo of Starsong - Full Bloom Edition</td>\n",
       "      <td>SIGONO INC.</td>\n",
       "      <td>SIGONO INC.</td>\n",
       "      <td>Adventure,Indie</td>\n",
       "      <td>English, Traditional Chinese, Japanese, Simpli...</td>\n",
       "      <td>Story Rich, Visual Novel, Emotional, Female Pr...</td>\n",
       "      <td>Single-player, Steam Achievements, Full contro...</td>\n",
       "      <td>2021-08-31</td>\n",
       "      <td>25</td>\n",
       "      <td>17.49</td>\n",
       "      <td>150000</td>\n",
       "      <td>3750000</td>\n",
       "      <td>9</td>\n",
       "      <td>30</td>\n",
       "      <td>97</td>\n",
       "      <td>90</td>\n",
       "      <td>100,000 - 200,000</td>\n",
       "      <td>22399</td>\n",
       "      <td>[Adventure, Indie]</td>\n",
       "    </tr>\n",
       "    <tr>\n",
       "      <th>2</th>\n",
       "      <td>607080</td>\n",
       "      <td>Psychonauts 2</td>\n",
       "      <td>Double Fine Productions, Xbox Game Studios</td>\n",
       "      <td>Xbox Game Studios</td>\n",
       "      <td>Action,Adventure</td>\n",
       "      <td>English, French, Italian, German, Spanish - Sp...</td>\n",
       "      <td>Story Rich, 3D Platformer, Comedy, Psychologic...</td>\n",
       "      <td>Single-player, Steam Achievements, Full contro...</td>\n",
       "      <td>2021-08-24</td>\n",
       "      <td>60</td>\n",
       "      <td>29.99</td>\n",
       "      <td>150000</td>\n",
       "      <td>9000000</td>\n",
       "      <td>9</td>\n",
       "      <td>50</td>\n",
       "      <td>97</td>\n",
       "      <td>89</td>\n",
       "      <td>100,000 - 200,000</td>\n",
       "      <td>32985</td>\n",
       "      <td>[Action, Adventure]</td>\n",
       "    </tr>\n",
       "    <tr>\n",
       "      <th>3</th>\n",
       "      <td>1426210</td>\n",
       "      <td>It Takes Two</td>\n",
       "      <td>Hazelight, Electronic Arts</td>\n",
       "      <td>Electronic Arts</td>\n",
       "      <td>Action,Adventure</td>\n",
       "      <td>English, French, Italian, German, Spanish - Sp...</td>\n",
       "      <td>Co-op, Multiplayer, Split Screen, Puzzle, Adve...</td>\n",
       "      <td>Multi-player, Co-op, Online Co-op, Shared/Spli...</td>\n",
       "      <td>2021-03-25</td>\n",
       "      <td>40</td>\n",
       "      <td>15.99</td>\n",
       "      <td>3500000</td>\n",
       "      <td>140000000</td>\n",
       "      <td>5</td>\n",
       "      <td>60</td>\n",
       "      <td>96</td>\n",
       "      <td>89</td>\n",
       "      <td>2,000,000 - 5,000,000</td>\n",
       "      <td>283575</td>\n",
       "      <td>[Action, Adventure]</td>\n",
       "    </tr>\n",
       "    <tr>\n",
       "      <th>4</th>\n",
       "      <td>1345820</td>\n",
       "      <td>Ragnarock</td>\n",
       "      <td>WanadevStudio</td>\n",
       "      <td>WanadevStudio</td>\n",
       "      <td>Casual,Indie,Racing,Sports</td>\n",
       "      <td>English, French, Italian, German, Spanish - Sp...</td>\n",
       "      <td>Rhythm, VR, Multiplayer, Music, Racing, PvP, C...</td>\n",
       "      <td>Single-player, Multi-player, PvP, Online PvP, ...</td>\n",
       "      <td>2021-07-15</td>\n",
       "      <td>25</td>\n",
       "      <td>14.99</td>\n",
       "      <td>75000</td>\n",
       "      <td>1875000</td>\n",
       "      <td>10</td>\n",
       "      <td>40</td>\n",
       "      <td>95</td>\n",
       "      <td>87</td>\n",
       "      <td>50,000 - 100,000</td>\n",
       "      <td>6886</td>\n",
       "      <td>[Casual, Indie, Racing, Sports]</td>\n",
       "    </tr>\n",
       "  </tbody>\n",
       "</table>\n",
       "</div>"
      ],
      "text/plain": [
       "        id                                         name  \\\n",
       "0  1123450                     Chicory: A Colorful Tale   \n",
       "1  1504500  OPUS: Echo of Starsong - Full Bloom Edition   \n",
       "2   607080                                Psychonauts 2   \n",
       "3  1426210                                 It Takes Two   \n",
       "4  1345820                                    Ragnarock   \n",
       "\n",
       "                                                 dev          publisher  \\\n",
       "0  Alexis Dean-Jones, Madeline Berger, Finji, A S...              Finji   \n",
       "1                                        SIGONO INC.        SIGONO INC.   \n",
       "2         Double Fine Productions, Xbox Game Studios  Xbox Game Studios   \n",
       "3                         Hazelight, Electronic Arts    Electronic Arts   \n",
       "4                                      WanadevStudio      WanadevStudio   \n",
       "\n",
       "                        genre  \\\n",
       "0         Adventure,Indie,RPG   \n",
       "1             Adventure,Indie   \n",
       "2            Action,Adventure   \n",
       "3            Action,Adventure   \n",
       "4  Casual,Indie,Racing,Sports   \n",
       "\n",
       "                                            language  \\\n",
       "0  English, French, Italian, German, Spanish - Sp...   \n",
       "1  English, Traditional Chinese, Japanese, Simpli...   \n",
       "2  English, French, Italian, German, Spanish - Sp...   \n",
       "3  English, French, Italian, German, Spanish - Sp...   \n",
       "4  English, French, Italian, German, Spanish - Sp...   \n",
       "\n",
       "                                                tags  \\\n",
       "0  Indie, Adventure, RPG, Great Soundtrack, Emoti...   \n",
       "1  Story Rich, Visual Novel, Emotional, Female Pr...   \n",
       "2  Story Rich, 3D Platformer, Comedy, Psychologic...   \n",
       "3  Co-op, Multiplayer, Split Screen, Puzzle, Adve...   \n",
       "4  Rhythm, VR, Multiplayer, Music, Racing, PvP, C...   \n",
       "\n",
       "                                            category    release  \\\n",
       "0  Single-player, Multi-player, Co-op, Shared/Spl... 2021-06-10   \n",
       "1  Single-player, Steam Achievements, Full contro... 2021-08-31   \n",
       "2  Single-player, Steam Achievements, Full contro... 2021-08-24   \n",
       "3  Multi-player, Co-op, Online Co-op, Shared/Spli... 2021-03-25   \n",
       "4  Single-player, Multi-player, PvP, Online PvP, ... 2021-07-15   \n",
       "\n",
       "   initial_price  actual_price  mean_sales  total_sales  category_sales  \\\n",
       "0             20         13.99       35000       700000              11   \n",
       "1             25         17.49      150000      3750000               9   \n",
       "2             60         29.99      150000      9000000               9   \n",
       "3             40         15.99     3500000    140000000               5   \n",
       "4             25         14.99       75000      1875000              10   \n",
       "\n",
       "   discount  old_userscore  metascore                 owners  followers  \\\n",
       "0        30             98         90        20,000 - 50,000       9432   \n",
       "1        30             97         90      100,000 - 200,000      22399   \n",
       "2        50             97         89      100,000 - 200,000      32985   \n",
       "3        60             96         89  2,000,000 - 5,000,000     283575   \n",
       "4        40             95         87       50,000 - 100,000       6886   \n",
       "\n",
       "                         genre_lst  \n",
       "0          [Adventure, Indie, RPG]  \n",
       "1               [Adventure, Indie]  \n",
       "2              [Action, Adventure]  \n",
       "3              [Action, Adventure]  \n",
       "4  [Casual, Indie, Racing, Sports]  "
      ]
     },
     "execution_count": 19,
     "metadata": {},
     "output_type": "execute_result"
    }
   ],
   "source": [
    "#Result\n",
    "df.head()"
   ]
  },
  {
   "cell_type": "code",
   "execution_count": 62,
   "metadata": {},
   "outputs": [],
   "source": [
    "#TEMPORAL\n",
    "df.to_csv(\"steam_df_tableau\")"
   ]
  },
  {
   "cell_type": "markdown",
   "metadata": {},
   "source": [
    "***"
   ]
  },
  {
   "cell_type": "markdown",
   "metadata": {},
   "source": [
    "# EDA: Mercado de videojuegos en Steam"
   ]
  },
  {
   "cell_type": "markdown",
   "metadata": {},
   "source": [
    "***"
   ]
  },
  {
   "cell_type": "markdown",
   "metadata": {},
   "source": [
    "#### 1) Cuáles fueron los juegos más vendidos y sus copias?\t"
   ]
  },
  {
   "cell_type": "code",
   "execution_count": 20,
   "metadata": {},
   "outputs": [
    {
     "data": {
      "text/html": [
       "<div>\n",
       "<style scoped>\n",
       "    .dataframe tbody tr th:only-of-type {\n",
       "        vertical-align: middle;\n",
       "    }\n",
       "\n",
       "    .dataframe tbody tr th {\n",
       "        vertical-align: top;\n",
       "    }\n",
       "\n",
       "    .dataframe thead th {\n",
       "        text-align: right;\n",
       "    }\n",
       "</style>\n",
       "<table border=\"1\" class=\"dataframe\">\n",
       "  <thead>\n",
       "    <tr style=\"text-align: right;\">\n",
       "      <th></th>\n",
       "      <th>name</th>\n",
       "      <th>owners</th>\n",
       "      <th>category_sales</th>\n",
       "      <th>total_sales</th>\n",
       "    </tr>\n",
       "  </thead>\n",
       "  <tbody>\n",
       "    <tr>\n",
       "      <th>0</th>\n",
       "      <td>Valheim</td>\n",
       "      <td>20,000,000 - 50,000,000</td>\n",
       "      <td>2</td>\n",
       "      <td>700000000</td>\n",
       "    </tr>\n",
       "    <tr>\n",
       "      <th>1</th>\n",
       "      <td>鬼谷八荒 Tale of Immortal</td>\n",
       "      <td>10,000,000 - 20,000,000</td>\n",
       "      <td>3</td>\n",
       "      <td>300000000</td>\n",
       "    </tr>\n",
       "    <tr>\n",
       "      <th>2</th>\n",
       "      <td>Phasmophobia</td>\n",
       "      <td>10,000,000 - 20,000,000</td>\n",
       "      <td>3</td>\n",
       "      <td>210000000</td>\n",
       "    </tr>\n",
       "    <tr>\n",
       "      <th>3</th>\n",
       "      <td>Cyberpunk 2077</td>\n",
       "      <td>10,000,000 - 20,000,000</td>\n",
       "      <td>3</td>\n",
       "      <td>900000000</td>\n",
       "    </tr>\n",
       "    <tr>\n",
       "      <th>4</th>\n",
       "      <td>NARAKA: BLADEPOINT</td>\n",
       "      <td>10,000,000 - 20,000,000</td>\n",
       "      <td>3</td>\n",
       "      <td>300000000</td>\n",
       "    </tr>\n",
       "    <tr>\n",
       "      <th>5</th>\n",
       "      <td>Mount &amp; Blade II: Bannerlord</td>\n",
       "      <td>10,000,000 - 20,000,000</td>\n",
       "      <td>3</td>\n",
       "      <td>750000000</td>\n",
       "    </tr>\n",
       "    <tr>\n",
       "      <th>6</th>\n",
       "      <td>Halo: The Master Chief Collection</td>\n",
       "      <td>5,000,000 - 10,000,000</td>\n",
       "      <td>4</td>\n",
       "      <td>300000000</td>\n",
       "    </tr>\n",
       "    <tr>\n",
       "      <th>7</th>\n",
       "      <td>Red Dead Redemption 2</td>\n",
       "      <td>5,000,000 - 10,000,000</td>\n",
       "      <td>4</td>\n",
       "      <td>450000000</td>\n",
       "    </tr>\n",
       "    <tr>\n",
       "      <th>8</th>\n",
       "      <td>Resident Evil 2</td>\n",
       "      <td>5,000,000 - 10,000,000</td>\n",
       "      <td>4</td>\n",
       "      <td>300000000</td>\n",
       "    </tr>\n",
       "    <tr>\n",
       "      <th>9</th>\n",
       "      <td>Sekiro: Shadows Die Twice - GOTY Edition</td>\n",
       "      <td>5,000,000 - 10,000,000</td>\n",
       "      <td>4</td>\n",
       "      <td>450000000</td>\n",
       "    </tr>\n",
       "    <tr>\n",
       "      <th>10</th>\n",
       "      <td>Battlefield 2042</td>\n",
       "      <td>5,000,000 - 10,000,000</td>\n",
       "      <td>4</td>\n",
       "      <td>450000000</td>\n",
       "    </tr>\n",
       "    <tr>\n",
       "      <th>11</th>\n",
       "      <td>Factorio</td>\n",
       "      <td>5,000,000 - 10,000,000</td>\n",
       "      <td>4</td>\n",
       "      <td>225000000</td>\n",
       "    </tr>\n",
       "    <tr>\n",
       "      <th>12</th>\n",
       "      <td>Sea of Thieves</td>\n",
       "      <td>5,000,000 - 10,000,000</td>\n",
       "      <td>4</td>\n",
       "      <td>300000000</td>\n",
       "    </tr>\n",
       "    <tr>\n",
       "      <th>13</th>\n",
       "      <td>Risk of Rain 2</td>\n",
       "      <td>5,000,000 - 10,000,000</td>\n",
       "      <td>4</td>\n",
       "      <td>187500000</td>\n",
       "    </tr>\n",
       "    <tr>\n",
       "      <th>14</th>\n",
       "      <td>Hades</td>\n",
       "      <td>5,000,000 - 10,000,000</td>\n",
       "      <td>4</td>\n",
       "      <td>187500000</td>\n",
       "    </tr>\n",
       "    <tr>\n",
       "      <th>15</th>\n",
       "      <td>Squad</td>\n",
       "      <td>2,000,000 - 5,000,000</td>\n",
       "      <td>5</td>\n",
       "      <td>175000000</td>\n",
       "    </tr>\n",
       "    <tr>\n",
       "      <th>16</th>\n",
       "      <td>DOOM Eternal</td>\n",
       "      <td>2,000,000 - 5,000,000</td>\n",
       "      <td>5</td>\n",
       "      <td>140000000</td>\n",
       "    </tr>\n",
       "    <tr>\n",
       "      <th>17</th>\n",
       "      <td>Ori and the Will of the Wisps</td>\n",
       "      <td>2,000,000 - 5,000,000</td>\n",
       "      <td>5</td>\n",
       "      <td>105000000</td>\n",
       "    </tr>\n",
       "    <tr>\n",
       "      <th>18</th>\n",
       "      <td>Space Engineers</td>\n",
       "      <td>2,000,000 - 5,000,000</td>\n",
       "      <td>5</td>\n",
       "      <td>70000000</td>\n",
       "    </tr>\n",
       "    <tr>\n",
       "      <th>19</th>\n",
       "      <td>Oxygen Not Included</td>\n",
       "      <td>2,000,000 - 5,000,000</td>\n",
       "      <td>5</td>\n",
       "      <td>87500000</td>\n",
       "    </tr>\n",
       "  </tbody>\n",
       "</table>\n",
       "</div>"
      ],
      "text/plain": [
       "                                        name                   owners  \\\n",
       "0                                    Valheim  20,000,000 - 50,000,000   \n",
       "1                      鬼谷八荒 Tale of Immortal  10,000,000 - 20,000,000   \n",
       "2                               Phasmophobia  10,000,000 - 20,000,000   \n",
       "3                             Cyberpunk 2077  10,000,000 - 20,000,000   \n",
       "4                         NARAKA: BLADEPOINT  10,000,000 - 20,000,000   \n",
       "5               Mount & Blade II: Bannerlord  10,000,000 - 20,000,000   \n",
       "6          Halo: The Master Chief Collection   5,000,000 - 10,000,000   \n",
       "7                      Red Dead Redemption 2   5,000,000 - 10,000,000   \n",
       "8                            Resident Evil 2   5,000,000 - 10,000,000   \n",
       "9   Sekiro: Shadows Die Twice - GOTY Edition   5,000,000 - 10,000,000   \n",
       "10                          Battlefield 2042   5,000,000 - 10,000,000   \n",
       "11                                  Factorio   5,000,000 - 10,000,000   \n",
       "12                            Sea of Thieves   5,000,000 - 10,000,000   \n",
       "13                            Risk of Rain 2   5,000,000 - 10,000,000   \n",
       "14                                     Hades   5,000,000 - 10,000,000   \n",
       "15                                     Squad    2,000,000 - 5,000,000   \n",
       "16                              DOOM Eternal    2,000,000 - 5,000,000   \n",
       "17             Ori and the Will of the Wisps    2,000,000 - 5,000,000   \n",
       "18                           Space Engineers    2,000,000 - 5,000,000   \n",
       "19                       Oxygen Not Included    2,000,000 - 5,000,000   \n",
       "\n",
       "    category_sales  total_sales  \n",
       "0                2    700000000  \n",
       "1                3    300000000  \n",
       "2                3    210000000  \n",
       "3                3    900000000  \n",
       "4                3    300000000  \n",
       "5                3    750000000  \n",
       "6                4    300000000  \n",
       "7                4    450000000  \n",
       "8                4    300000000  \n",
       "9                4    450000000  \n",
       "10               4    450000000  \n",
       "11               4    225000000  \n",
       "12               4    300000000  \n",
       "13               4    187500000  \n",
       "14               4    187500000  \n",
       "15               5    175000000  \n",
       "16               5    140000000  \n",
       "17               5    105000000  \n",
       "18               5     70000000  \n",
       "19               5     87500000  "
      ]
     },
     "execution_count": 20,
     "metadata": {},
     "output_type": "execute_result"
    }
   ],
   "source": [
    "df_whitouth_free[[\"name\", \"owners\", \"category_sales\", \"total_sales\"]].sort_values(by = \"category_sales\", ascending = True)\\\n",
    "    .reset_index(drop = True).head(20)"
   ]
  },
  {
   "cell_type": "markdown",
   "metadata": {},
   "source": [
    "% de los juegos más vendidos que son Indie"
   ]
  },
  {
   "cell_type": "code",
   "execution_count": 21,
   "metadata": {},
   "outputs": [
    {
     "data": {
      "text/plain": [
       "40.0"
      ]
     },
     "execution_count": 21,
     "metadata": {},
     "output_type": "execute_result"
    }
   ],
   "source": [
    "round((8 / 20) *100, 2)"
   ]
  },
  {
   "cell_type": "markdown",
   "metadata": {},
   "source": [
    "Como podemos apreciar los juegos más vendidos en su mayoría son AAA con 60% de las ventas, pero no podemos dejar atrás a los juegos Indie ya que poseen un 40% de las ventas del mercado de Steam, lo que sugiera que el mercado no tiene una fuerte preferencia por uno u otro."
   ]
  },
  {
   "cell_type": "markdown",
   "metadata": {},
   "source": [
    "***"
   ]
  },
  {
   "cell_type": "markdown",
   "metadata": {},
   "source": [
    "#### 2) Datos de los juegos más vendidos?"
   ]
  },
  {
   "cell_type": "code",
   "execution_count": 22,
   "metadata": {},
   "outputs": [
    {
     "name": "stderr",
     "output_type": "stream",
     "text": [
      "C:\\Users\\gcuci\\AppData\\Roaming\\Python\\Python37\\site-packages\\ipykernel_launcher.py:1: SettingWithCopyWarning: \n",
      "A value is trying to be set on a copy of a slice from a DataFrame.\n",
      "Try using .loc[row_indexer,col_indexer] = value instead\n",
      "\n",
      "See the caveats in the documentation: https://pandas.pydata.org/pandas-docs/stable/user_guide/indexing.html#returning-a-view-versus-a-copy\n",
      "  \"\"\"Entry point for launching an IPython kernel.\n"
     ]
    }
   ],
   "source": [
    "df_whitouth_free[\"total_sales\"] = df[\"mean_sales\"] * df[\"initial_price\"]"
   ]
  },
  {
   "cell_type": "code",
   "execution_count": 23,
   "metadata": {},
   "outputs": [
    {
     "data": {
      "text/html": [
       "<div>\n",
       "<style scoped>\n",
       "    .dataframe tbody tr th:only-of-type {\n",
       "        vertical-align: middle;\n",
       "    }\n",
       "\n",
       "    .dataframe tbody tr th {\n",
       "        vertical-align: top;\n",
       "    }\n",
       "\n",
       "    .dataframe thead th {\n",
       "        text-align: right;\n",
       "    }\n",
       "</style>\n",
       "<table border=\"1\" class=\"dataframe\">\n",
       "  <thead>\n",
       "    <tr style=\"text-align: right;\">\n",
       "      <th></th>\n",
       "      <th>total_sales</th>\n",
       "    </tr>\n",
       "  </thead>\n",
       "  <tbody>\n",
       "    <tr>\n",
       "      <th>count</th>\n",
       "      <td>20.00</td>\n",
       "    </tr>\n",
       "    <tr>\n",
       "      <th>mean</th>\n",
       "      <td>329375000.00</td>\n",
       "    </tr>\n",
       "    <tr>\n",
       "      <th>std</th>\n",
       "      <td>228160370.37</td>\n",
       "    </tr>\n",
       "    <tr>\n",
       "      <th>min</th>\n",
       "      <td>70000000.00</td>\n",
       "    </tr>\n",
       "    <tr>\n",
       "      <th>25%</th>\n",
       "      <td>184375000.00</td>\n",
       "    </tr>\n",
       "    <tr>\n",
       "      <th>50%</th>\n",
       "      <td>300000000.00</td>\n",
       "    </tr>\n",
       "    <tr>\n",
       "      <th>75%</th>\n",
       "      <td>450000000.00</td>\n",
       "    </tr>\n",
       "    <tr>\n",
       "      <th>max</th>\n",
       "      <td>900000000.00</td>\n",
       "    </tr>\n",
       "  </tbody>\n",
       "</table>\n",
       "</div>"
      ],
      "text/plain": [
       "       total_sales\n",
       "count        20.00\n",
       "mean  329375000.00\n",
       "std   228160370.37\n",
       "min    70000000.00\n",
       "25%   184375000.00\n",
       "50%   300000000.00\n",
       "75%   450000000.00\n",
       "max   900000000.00"
      ]
     },
     "execution_count": 23,
     "metadata": {},
     "output_type": "execute_result"
    }
   ],
   "source": [
    "df_whitouth_free.sort_values(by = \"category_sales\", ascending = True).reset_index(drop = True)\\\n",
    "    .head(20).describe()[[\"total_sales\"]]"
   ]
  },
  {
   "cell_type": "markdown",
   "metadata": {},
   "source": [
    "La venta promedio de los juegos más vendidos (20), es de 329 millones de dólares, mientras que sus percentiles son:\n",
    "25%: 184 millones,\n",
    "50%: 300 millones,\n",
    "75%: 450 millones,\n",
    "max: 900 millones. Lo que demuestra lo lucrativo que puede llegar a ser este mercado."
   ]
  },
  {
   "cell_type": "markdown",
   "metadata": {},
   "source": [
    "***"
   ]
  },
  {
   "cell_type": "markdown",
   "metadata": {},
   "source": [
    "#### 3) Cuáles fueron los géneros más populares?"
   ]
  },
  {
   "cell_type": "code",
   "execution_count": 24,
   "metadata": {},
   "outputs": [
    {
     "data": {
      "text/html": [
       "<div>\n",
       "<style scoped>\n",
       "    .dataframe tbody tr th:only-of-type {\n",
       "        vertical-align: middle;\n",
       "    }\n",
       "\n",
       "    .dataframe tbody tr th {\n",
       "        vertical-align: top;\n",
       "    }\n",
       "\n",
       "    .dataframe thead th {\n",
       "        text-align: right;\n",
       "    }\n",
       "</style>\n",
       "<table border=\"1\" class=\"dataframe\">\n",
       "  <thead>\n",
       "    <tr style=\"text-align: right;\">\n",
       "      <th></th>\n",
       "      <th>genre</th>\n",
       "      <th>count</th>\n",
       "    </tr>\n",
       "  </thead>\n",
       "  <tbody>\n",
       "    <tr>\n",
       "      <th>0</th>\n",
       "      <td>Indie</td>\n",
       "      <td>20527</td>\n",
       "    </tr>\n",
       "    <tr>\n",
       "      <th>1</th>\n",
       "      <td>Casual</td>\n",
       "      <td>12176</td>\n",
       "    </tr>\n",
       "    <tr>\n",
       "      <th>2</th>\n",
       "      <td>Action</td>\n",
       "      <td>11539</td>\n",
       "    </tr>\n",
       "    <tr>\n",
       "      <th>3</th>\n",
       "      <td>Adventure</td>\n",
       "      <td>10944</td>\n",
       "    </tr>\n",
       "    <tr>\n",
       "      <th>4</th>\n",
       "      <td>Simulation</td>\n",
       "      <td>5651</td>\n",
       "    </tr>\n",
       "    <tr>\n",
       "      <th>5</th>\n",
       "      <td>Strategy</td>\n",
       "      <td>5297</td>\n",
       "    </tr>\n",
       "    <tr>\n",
       "      <th>6</th>\n",
       "      <td>RPG</td>\n",
       "      <td>5061</td>\n",
       "    </tr>\n",
       "    <tr>\n",
       "      <th>7</th>\n",
       "      <td>Sports</td>\n",
       "      <td>1278</td>\n",
       "    </tr>\n",
       "    <tr>\n",
       "      <th>8</th>\n",
       "      <td>Racing</td>\n",
       "      <td>1005</td>\n",
       "    </tr>\n",
       "    <tr>\n",
       "      <th>9</th>\n",
       "      <td>Massively Multiplayer</td>\n",
       "      <td>708</td>\n",
       "    </tr>\n",
       "  </tbody>\n",
       "</table>\n",
       "</div>"
      ],
      "text/plain": [
       "                   genre  count\n",
       "0                  Indie  20527\n",
       "1                 Casual  12176\n",
       "2                 Action  11539\n",
       "3              Adventure  10944\n",
       "4             Simulation   5651\n",
       "5               Strategy   5297\n",
       "6                    RPG   5061\n",
       "7                 Sports   1278\n",
       "8                 Racing   1005\n",
       "9  Massively Multiplayer    708"
      ]
     },
     "execution_count": 24,
     "metadata": {},
     "output_type": "execute_result"
    }
   ],
   "source": [
    "df_genre = genre_total.sort_values(by = \"count\", ascending = False).reset_index(drop = True)\n",
    "df_genre[(df_genre[\"genre\"] != (\"Early Access\")) & (df_genre[\"genre\"] != (\"in Early Access\")) & (df_genre[\"genre\"]!= (\"Free to Play\"))]\\\n",
    "    .head(10).reset_index(drop = True)"
   ]
  },
  {
   "cell_type": "markdown",
   "metadata": {},
   "source": [
    "Los géneros más populares son bastante destacables, en su mayoría son Indies, seguidos de Casual, Action, Adventure, Simulation.\n",
    "Cabe destacar con los videojuegos se categorizan en su mayoría en más de un género por ello, la suma del total de los géneros es mayor que el total de juegos."
   ]
  },
  {
   "cell_type": "markdown",
   "metadata": {},
   "source": [
    "***"
   ]
  },
  {
   "cell_type": "markdown",
   "metadata": {},
   "source": [
    "#### 4) Cuáles fueron los géneros menos populares?"
   ]
  },
  {
   "cell_type": "code",
   "execution_count": 25,
   "metadata": {},
   "outputs": [
    {
     "data": {
      "text/html": [
       "<div>\n",
       "<style scoped>\n",
       "    .dataframe tbody tr th:only-of-type {\n",
       "        vertical-align: middle;\n",
       "    }\n",
       "\n",
       "    .dataframe tbody tr th {\n",
       "        vertical-align: top;\n",
       "    }\n",
       "\n",
       "    .dataframe thead th {\n",
       "        text-align: right;\n",
       "    }\n",
       "</style>\n",
       "<table border=\"1\" class=\"dataframe\">\n",
       "  <thead>\n",
       "    <tr style=\"text-align: right;\">\n",
       "      <th></th>\n",
       "      <th>genre</th>\n",
       "      <th>count</th>\n",
       "    </tr>\n",
       "  </thead>\n",
       "  <tbody>\n",
       "    <tr>\n",
       "      <th>21</th>\n",
       "      <td>Software Training</td>\n",
       "      <td>68</td>\n",
       "    </tr>\n",
       "    <tr>\n",
       "      <th>22</th>\n",
       "      <td>Photo Editing</td>\n",
       "      <td>48</td>\n",
       "    </tr>\n",
       "    <tr>\n",
       "      <th>23</th>\n",
       "      <td>Web Publishing</td>\n",
       "      <td>47</td>\n",
       "    </tr>\n",
       "    <tr>\n",
       "      <th>24</th>\n",
       "      <td>Accounting</td>\n",
       "      <td>9</td>\n",
       "    </tr>\n",
       "    <tr>\n",
       "      <th>25</th>\n",
       "      <td>Short</td>\n",
       "      <td>1</td>\n",
       "    </tr>\n",
       "    <tr>\n",
       "      <th>26</th>\n",
       "      <td>Movie</td>\n",
       "      <td>1</td>\n",
       "    </tr>\n",
       "    <tr>\n",
       "      <th>27</th>\n",
       "      <td>Tutorial</td>\n",
       "      <td>1</td>\n",
       "    </tr>\n",
       "    <tr>\n",
       "      <th>28</th>\n",
       "      <td>360 V</td>\n",
       "      <td>1</td>\n",
       "    </tr>\n",
       "    <tr>\n",
       "      <th>29</th>\n",
       "      <td>Episodic</td>\n",
       "      <td>1</td>\n",
       "    </tr>\n",
       "    <tr>\n",
       "      <th>30</th>\n",
       "      <td>Documentary</td>\n",
       "      <td>1</td>\n",
       "    </tr>\n",
       "  </tbody>\n",
       "</table>\n",
       "</div>"
      ],
      "text/plain": [
       "                genre  count\n",
       "21  Software Training     68\n",
       "22      Photo Editing     48\n",
       "23     Web Publishing     47\n",
       "24         Accounting      9\n",
       "25              Short      1\n",
       "26              Movie      1\n",
       "27           Tutorial      1\n",
       "28              360 V      1\n",
       "29           Episodic      1\n",
       "30        Documentary      1"
      ]
     },
     "execution_count": 25,
     "metadata": {},
     "output_type": "execute_result"
    }
   ],
   "source": [
    "genre_total.sort_values(by = \"count\", ascending = False).reset_index(drop = True).tail(10)"
   ]
  },
  {
   "cell_type": "markdown",
   "metadata": {},
   "source": [
    "No es ninguna sorpresa que entre los géneros menos atractivos en la tienda son los que no tienen nada que ver con los juegos en general, como software de edición."
   ]
  },
  {
   "cell_type": "markdown",
   "metadata": {},
   "source": [
    "***"
   ]
  },
  {
   "cell_type": "markdown",
   "metadata": {},
   "source": [
    "#### 5) Cuántos juegos superaron las 100k copias?"
   ]
  },
  {
   "cell_type": "markdown",
   "metadata": {},
   "source": [
    "Total de juegos publicados"
   ]
  },
  {
   "cell_type": "code",
   "execution_count": 26,
   "metadata": {},
   "outputs": [
    {
     "data": {
      "text/plain": [
       "27873"
      ]
     },
     "execution_count": 26,
     "metadata": {},
     "output_type": "execute_result"
    }
   ],
   "source": [
    "total_games"
   ]
  },
  {
   "cell_type": "markdown",
   "metadata": {},
   "source": [
    "Total de todos juegos"
   ]
  },
  {
   "cell_type": "code",
   "execution_count": 27,
   "metadata": {},
   "outputs": [
    {
     "data": {
      "text/plain": [
       "1635"
      ]
     },
     "execution_count": 27,
     "metadata": {},
     "output_type": "execute_result"
    }
   ],
   "source": [
    "more_than_100k"
   ]
  },
  {
   "cell_type": "markdown",
   "metadata": {},
   "source": [
    "% de juegos"
   ]
  },
  {
   "cell_type": "code",
   "execution_count": 28,
   "metadata": {},
   "outputs": [
    {
     "data": {
      "text/plain": [
       "5.87"
      ]
     },
     "execution_count": 28,
     "metadata": {},
     "output_type": "execute_result"
    }
   ],
   "source": [
    "round((more_than_100k / total_games) * 100, 2)"
   ]
  },
  {
   "cell_type": "markdown",
   "metadata": {},
   "source": [
    "Esto evidencia que el número de juegos totales y su porcentaje en es mínimo en comparación al total de juegos publicados, lo que quiere decir que es un mercado bien competitivo. Solo 1635 superaron las 100K copias, lo que representa una muestra de menos del 6% del total."
   ]
  },
  {
   "cell_type": "markdown",
   "metadata": {},
   "source": [
    "***"
   ]
  },
  {
   "cell_type": "markdown",
   "metadata": {},
   "source": [
    "Total juegos Indie"
   ]
  },
  {
   "cell_type": "code",
   "execution_count": 29,
   "metadata": {},
   "outputs": [
    {
     "data": {
      "text/plain": [
       "20527"
      ]
     },
     "execution_count": 29,
     "metadata": {},
     "output_type": "execute_result"
    }
   ],
   "source": [
    "total_indies"
   ]
  },
  {
   "cell_type": "markdown",
   "metadata": {},
   "source": [
    "Total de juegos Indie que superaron los 100K"
   ]
  },
  {
   "cell_type": "code",
   "execution_count": 30,
   "metadata": {},
   "outputs": [
    {
     "data": {
      "text/plain": [
       "1046"
      ]
     },
     "execution_count": 30,
     "metadata": {},
     "output_type": "execute_result"
    }
   ],
   "source": [
    "df_indie[df_indie[\"category_sales\"] <= 9].shape[0]"
   ]
  },
  {
   "cell_type": "markdown",
   "metadata": {},
   "source": [
    "% de juegos los juegos Indie que superaron los 100k "
   ]
  },
  {
   "cell_type": "code",
   "execution_count": 31,
   "metadata": {},
   "outputs": [
    {
     "data": {
      "text/plain": [
       "5.1"
      ]
     },
     "execution_count": 31,
     "metadata": {},
     "output_type": "execute_result"
    }
   ],
   "source": [
    "round((1046 / total_indies) * 100, 2)"
   ]
  },
  {
   "cell_type": "markdown",
   "metadata": {},
   "source": [
    "En el caso de los juegos Indie el porcentaje es muy similar a la media de todos los juegos en cuanto a superar la brecha de las 100K copias, menos del 6%."
   ]
  },
  {
   "cell_type": "markdown",
   "metadata": {},
   "source": [
    "***"
   ]
  },
  {
   "cell_type": "markdown",
   "metadata": {},
   "source": [
    "Total juegos AAA\n"
   ]
  },
  {
   "cell_type": "code",
   "execution_count": 32,
   "metadata": {},
   "outputs": [
    {
     "data": {
      "text/plain": [
       "7346"
      ]
     },
     "execution_count": 32,
     "metadata": {},
     "output_type": "execute_result"
    }
   ],
   "source": [
    "total_AAA"
   ]
  },
  {
   "cell_type": "markdown",
   "metadata": {},
   "source": [
    "Total de juegos AAA que superaron los 100K"
   ]
  },
  {
   "cell_type": "code",
   "execution_count": 33,
   "metadata": {},
   "outputs": [
    {
     "data": {
      "text/plain": [
       "589"
      ]
     },
     "execution_count": 33,
     "metadata": {},
     "output_type": "execute_result"
    }
   ],
   "source": [
    "df_not_indie[df_not_indie[\"category_sales\"] <= 9].shape[0]"
   ]
  },
  {
   "cell_type": "markdown",
   "metadata": {},
   "source": [
    "% de los juegos AAA que superaron los 100K"
   ]
  },
  {
   "cell_type": "code",
   "execution_count": 34,
   "metadata": {},
   "outputs": [
    {
     "data": {
      "text/plain": [
       "8.02"
      ]
     },
     "execution_count": 34,
     "metadata": {},
     "output_type": "execute_result"
    }
   ],
   "source": [
    "round((589 / total_AAA) * 100, 2)"
   ]
  },
  {
   "cell_type": "markdown",
   "metadata": {},
   "source": [
    "En el caso de los AAA podemos observar una mejora en los porcentajes, pero la diferencia no es abismal, solo un 8% de ellos superaron los 100K."
   ]
  },
  {
   "cell_type": "markdown",
   "metadata": {},
   "source": [
    "***"
   ]
  },
  {
   "cell_type": "markdown",
   "metadata": {},
   "source": [
    "#### 6) Cuántos juegos superaron el millón de copias?"
   ]
  },
  {
   "cell_type": "markdown",
   "metadata": {},
   "source": [
    "Todos los juegos"
   ]
  },
  {
   "cell_type": "code",
   "execution_count": 35,
   "metadata": {},
   "outputs": [
    {
     "data": {
      "text/plain": [
       "186"
      ]
     },
     "execution_count": 35,
     "metadata": {},
     "output_type": "execute_result"
    }
   ],
   "source": [
    "more_than_1_million"
   ]
  },
  {
   "cell_type": "markdown",
   "metadata": {},
   "source": [
    "% de todos los juegos que superaron el millon de copias"
   ]
  },
  {
   "cell_type": "code",
   "execution_count": 36,
   "metadata": {},
   "outputs": [
    {
     "data": {
      "text/plain": [
       "0.67"
      ]
     },
     "execution_count": 36,
     "metadata": {},
     "output_type": "execute_result"
    }
   ],
   "source": [
    "round((more_than_1_million / total_games) * 100, 2)"
   ]
  },
  {
   "cell_type": "markdown",
   "metadata": {},
   "source": [
    "En este caso solo 186 juegos, superaron el millón de copias, siendo el porcentaje menor al 1% (0,67%) del total de juegos, lo que indica que solo unos pocos llegan a ser extremadamente rentables."
   ]
  },
  {
   "cell_type": "markdown",
   "metadata": {},
   "source": [
    "***"
   ]
  },
  {
   "cell_type": "markdown",
   "metadata": {},
   "source": [
    "Total de juegos Indie que superaron el millon de copias"
   ]
  },
  {
   "cell_type": "code",
   "execution_count": 37,
   "metadata": {},
   "outputs": [
    {
     "data": {
      "text/plain": [
       "75"
      ]
     },
     "execution_count": 37,
     "metadata": {},
     "output_type": "execute_result"
    }
   ],
   "source": [
    "df_indie[df_indie[\"category_sales\"] <= 6].shape[0]"
   ]
  },
  {
   "cell_type": "markdown",
   "metadata": {},
   "source": [
    "% de juegos Indie que superaron el millon de copias"
   ]
  },
  {
   "cell_type": "code",
   "execution_count": 38,
   "metadata": {},
   "outputs": [
    {
     "data": {
      "text/plain": [
       "0.37"
      ]
     },
     "execution_count": 38,
     "metadata": {},
     "output_type": "execute_result"
    }
   ],
   "source": [
    "round((75 / total_indies) * 100, 2) "
   ]
  },
  {
   "cell_type": "markdown",
   "metadata": {},
   "source": [
    "En el caso de los juegos Indie, solo 75 llegaron a superar el millón de copias, lo que da un porcentaje similar, solo el 0,37% de todos los juegos Indies llegan a superar dicha cifra."
   ]
  },
  {
   "cell_type": "markdown",
   "metadata": {},
   "source": [
    "***"
   ]
  },
  {
   "cell_type": "markdown",
   "metadata": {},
   "source": [
    "Total de juegos AAA que superaron el millon de copias"
   ]
  },
  {
   "cell_type": "code",
   "execution_count": 39,
   "metadata": {},
   "outputs": [
    {
     "data": {
      "text/plain": [
       "111"
      ]
     },
     "execution_count": 39,
     "metadata": {},
     "output_type": "execute_result"
    }
   ],
   "source": [
    "df_not_indie[df_not_indie[\"category_sales\"] <= 6].shape[0]"
   ]
  },
  {
   "cell_type": "markdown",
   "metadata": {},
   "source": [
    "% de los juegos AAA que superaron el millon de copias"
   ]
  },
  {
   "cell_type": "code",
   "execution_count": 40,
   "metadata": {},
   "outputs": [
    {
     "data": {
      "text/plain": [
       "1.51"
      ]
     },
     "execution_count": 40,
     "metadata": {},
     "output_type": "execute_result"
    }
   ],
   "source": [
    "round((111 / total_AAA) * 100, 2)"
   ]
  },
  {
   "cell_type": "markdown",
   "metadata": {},
   "source": [
    "En el caso de los juegos AAA el total fue de 111 juegos, lo que representa el 1,51% de todos los AAA, lo que sugiera una mejora con respecto a los Indies."
   ]
  },
  {
   "cell_type": "markdown",
   "metadata": {},
   "source": [
    "***"
   ]
  },
  {
   "cell_type": "markdown",
   "metadata": {},
   "source": [
    "#### 7) Cuáles fueron los juegos Indie más vendidos?"
   ]
  },
  {
   "cell_type": "code",
   "execution_count": 41,
   "metadata": {},
   "outputs": [
    {
     "data": {
      "text/html": [
       "<div>\n",
       "<style scoped>\n",
       "    .dataframe tbody tr th:only-of-type {\n",
       "        vertical-align: middle;\n",
       "    }\n",
       "\n",
       "    .dataframe tbody tr th {\n",
       "        vertical-align: top;\n",
       "    }\n",
       "\n",
       "    .dataframe thead th {\n",
       "        text-align: right;\n",
       "    }\n",
       "</style>\n",
       "<table border=\"1\" class=\"dataframe\">\n",
       "  <thead>\n",
       "    <tr style=\"text-align: right;\">\n",
       "      <th></th>\n",
       "      <th>name</th>\n",
       "      <th>owners</th>\n",
       "      <th>total_sales</th>\n",
       "    </tr>\n",
       "  </thead>\n",
       "  <tbody>\n",
       "    <tr>\n",
       "      <th>0</th>\n",
       "      <td>Valheim</td>\n",
       "      <td>20,000,000 - 50,000,000</td>\n",
       "      <td>700000000</td>\n",
       "    </tr>\n",
       "    <tr>\n",
       "      <th>1</th>\n",
       "      <td>鬼谷八荒 Tale of Immortal</td>\n",
       "      <td>10,000,000 - 20,000,000</td>\n",
       "      <td>300000000</td>\n",
       "    </tr>\n",
       "    <tr>\n",
       "      <th>2</th>\n",
       "      <td>Factorio</td>\n",
       "      <td>5,000,000 - 10,000,000</td>\n",
       "      <td>225000000</td>\n",
       "    </tr>\n",
       "    <tr>\n",
       "      <th>3</th>\n",
       "      <td>Phasmophobia</td>\n",
       "      <td>10,000,000 - 20,000,000</td>\n",
       "      <td>210000000</td>\n",
       "    </tr>\n",
       "    <tr>\n",
       "      <th>4</th>\n",
       "      <td>Hades</td>\n",
       "      <td>5,000,000 - 10,000,000</td>\n",
       "      <td>187500000</td>\n",
       "    </tr>\n",
       "    <tr>\n",
       "      <th>5</th>\n",
       "      <td>Risk of Rain 2</td>\n",
       "      <td>5,000,000 - 10,000,000</td>\n",
       "      <td>187500000</td>\n",
       "    </tr>\n",
       "    <tr>\n",
       "      <th>6</th>\n",
       "      <td>Squad</td>\n",
       "      <td>2,000,000 - 5,000,000</td>\n",
       "      <td>175000000</td>\n",
       "    </tr>\n",
       "    <tr>\n",
       "      <th>7</th>\n",
       "      <td>Wolcen: Lords of Mayhem</td>\n",
       "      <td>2,000,000 - 5,000,000</td>\n",
       "      <td>140000000</td>\n",
       "    </tr>\n",
       "    <tr>\n",
       "      <th>8</th>\n",
       "      <td>Satisfactory</td>\n",
       "      <td>2,000,000 - 5,000,000</td>\n",
       "      <td>105000000</td>\n",
       "    </tr>\n",
       "    <tr>\n",
       "      <th>9</th>\n",
       "      <td>MORDHAU</td>\n",
       "      <td>2,000,000 - 5,000,000</td>\n",
       "      <td>105000000</td>\n",
       "    </tr>\n",
       "    <tr>\n",
       "      <th>10</th>\n",
       "      <td>ASTRONEER</td>\n",
       "      <td>2,000,000 - 5,000,000</td>\n",
       "      <td>105000000</td>\n",
       "    </tr>\n",
       "    <tr>\n",
       "      <th>11</th>\n",
       "      <td>Beat Saber</td>\n",
       "      <td>2,000,000 - 5,000,000</td>\n",
       "      <td>105000000</td>\n",
       "    </tr>\n",
       "    <tr>\n",
       "      <th>12</th>\n",
       "      <td>Oxygen Not Included</td>\n",
       "      <td>2,000,000 - 5,000,000</td>\n",
       "      <td>87500000</td>\n",
       "    </tr>\n",
       "    <tr>\n",
       "      <th>13</th>\n",
       "      <td>Slay the Spire</td>\n",
       "      <td>2,000,000 - 5,000,000</td>\n",
       "      <td>87500000</td>\n",
       "    </tr>\n",
       "    <tr>\n",
       "      <th>14</th>\n",
       "      <td>Pathfinder: Wrath of the Righteous</td>\n",
       "      <td>1,000,000 - 2,000,000</td>\n",
       "      <td>75000000</td>\n",
       "    </tr>\n",
       "    <tr>\n",
       "      <th>15</th>\n",
       "      <td>Black Mesa</td>\n",
       "      <td>2,000,000 - 5,000,000</td>\n",
       "      <td>70000000</td>\n",
       "    </tr>\n",
       "    <tr>\n",
       "      <th>16</th>\n",
       "      <td>Totally Accurate Battle Simulator</td>\n",
       "      <td>2,000,000 - 5,000,000</td>\n",
       "      <td>70000000</td>\n",
       "    </tr>\n",
       "    <tr>\n",
       "      <th>17</th>\n",
       "      <td>Gunfire Reborn</td>\n",
       "      <td>2,000,000 - 5,000,000</td>\n",
       "      <td>70000000</td>\n",
       "    </tr>\n",
       "    <tr>\n",
       "      <th>18</th>\n",
       "      <td>Dyson Sphere Program</td>\n",
       "      <td>2,000,000 - 5,000,000</td>\n",
       "      <td>70000000</td>\n",
       "    </tr>\n",
       "    <tr>\n",
       "      <th>19</th>\n",
       "      <td>Space Engineers</td>\n",
       "      <td>2,000,000 - 5,000,000</td>\n",
       "      <td>70000000</td>\n",
       "    </tr>\n",
       "  </tbody>\n",
       "</table>\n",
       "</div>"
      ],
      "text/plain": [
       "                                  name                   owners  total_sales\n",
       "0                              Valheim  20,000,000 - 50,000,000    700000000\n",
       "1                鬼谷八荒 Tale of Immortal  10,000,000 - 20,000,000    300000000\n",
       "2                             Factorio   5,000,000 - 10,000,000    225000000\n",
       "3                         Phasmophobia  10,000,000 - 20,000,000    210000000\n",
       "4                                Hades   5,000,000 - 10,000,000    187500000\n",
       "5                       Risk of Rain 2   5,000,000 - 10,000,000    187500000\n",
       "6                                Squad    2,000,000 - 5,000,000    175000000\n",
       "7              Wolcen: Lords of Mayhem    2,000,000 - 5,000,000    140000000\n",
       "8                         Satisfactory    2,000,000 - 5,000,000    105000000\n",
       "9                              MORDHAU    2,000,000 - 5,000,000    105000000\n",
       "10                           ASTRONEER    2,000,000 - 5,000,000    105000000\n",
       "11                          Beat Saber    2,000,000 - 5,000,000    105000000\n",
       "12                 Oxygen Not Included    2,000,000 - 5,000,000     87500000\n",
       "13                      Slay the Spire    2,000,000 - 5,000,000     87500000\n",
       "14  Pathfinder: Wrath of the Righteous    1,000,000 - 2,000,000     75000000\n",
       "15                          Black Mesa    2,000,000 - 5,000,000     70000000\n",
       "16   Totally Accurate Battle Simulator    2,000,000 - 5,000,000     70000000\n",
       "17                      Gunfire Reborn    2,000,000 - 5,000,000     70000000\n",
       "18                Dyson Sphere Program    2,000,000 - 5,000,000     70000000\n",
       "19                     Space Engineers    2,000,000 - 5,000,000     70000000"
      ]
     },
     "execution_count": 41,
     "metadata": {},
     "output_type": "execute_result"
    }
   ],
   "source": [
    "df_indie[[\"name\", \"owners\", \"total_sales\"]].sort_values(by = \"total_sales\", ascending = False).head(20).reset_index(drop = True)"
   ]
  },
  {
   "cell_type": "markdown",
   "metadata": {},
   "source": [
    "Sin duda alguna cuando se llegan a desarrollar juegos realmente interesantes y bien llevados a cabo, se puede conseguir grandes retornos, destacando que en una producción Indie es mucho más rentables que una AAA debido a sus costes más bajos. Dicho rango de ventas va desde los 2 millones de copias, hasta los 50 millones."
   ]
  },
  {
   "cell_type": "markdown",
   "metadata": {},
   "source": [
    "***"
   ]
  },
  {
   "cell_type": "markdown",
   "metadata": {},
   "source": [
    "#### 8) Cuál es la facturación promedio de los juegos Indie más vendidos?"
   ]
  },
  {
   "cell_type": "code",
   "execution_count": 42,
   "metadata": {},
   "outputs": [
    {
     "data": {
      "text/html": [
       "<div>\n",
       "<style scoped>\n",
       "    .dataframe tbody tr th:only-of-type {\n",
       "        vertical-align: middle;\n",
       "    }\n",
       "\n",
       "    .dataframe tbody tr th {\n",
       "        vertical-align: top;\n",
       "    }\n",
       "\n",
       "    .dataframe thead th {\n",
       "        text-align: right;\n",
       "    }\n",
       "</style>\n",
       "<table border=\"1\" class=\"dataframe\">\n",
       "  <thead>\n",
       "    <tr style=\"text-align: right;\">\n",
       "      <th></th>\n",
       "      <th>total_sales</th>\n",
       "    </tr>\n",
       "  </thead>\n",
       "  <tbody>\n",
       "    <tr>\n",
       "      <th>count</th>\n",
       "      <td>20.00</td>\n",
       "    </tr>\n",
       "    <tr>\n",
       "      <th>mean</th>\n",
       "      <td>157250000.00</td>\n",
       "    </tr>\n",
       "    <tr>\n",
       "      <th>std</th>\n",
       "      <td>143315762.90</td>\n",
       "    </tr>\n",
       "    <tr>\n",
       "      <th>min</th>\n",
       "      <td>70000000.00</td>\n",
       "    </tr>\n",
       "    <tr>\n",
       "      <th>25%</th>\n",
       "      <td>73750000.00</td>\n",
       "    </tr>\n",
       "    <tr>\n",
       "      <th>50%</th>\n",
       "      <td>105000000.00</td>\n",
       "    </tr>\n",
       "    <tr>\n",
       "      <th>75%</th>\n",
       "      <td>187500000.00</td>\n",
       "    </tr>\n",
       "    <tr>\n",
       "      <th>max</th>\n",
       "      <td>700000000.00</td>\n",
       "    </tr>\n",
       "  </tbody>\n",
       "</table>\n",
       "</div>"
      ],
      "text/plain": [
       "       total_sales\n",
       "count        20.00\n",
       "mean  157250000.00\n",
       "std   143315762.90\n",
       "min    70000000.00\n",
       "25%    73750000.00\n",
       "50%   105000000.00\n",
       "75%   187500000.00\n",
       "max   700000000.00"
      ]
     },
     "execution_count": 42,
     "metadata": {},
     "output_type": "execute_result"
    }
   ],
   "source": [
    "df_indie[[\"total_sales\"]].sort_values(by = \"total_sales\", ascending = False).head(20).reset_index(drop = True).describe()"
   ]
  },
  {
   "cell_type": "markdown",
   "metadata": {},
   "source": [
    "Los juegos Indies más vendidos (20), en promedio tienen una media de ventas de 157 millones de dólares, mientras que sus percentiles son:\n",
    "25%: 73 millones,\n",
    "50%: 105 millones,\n",
    "75%: 187 millones,\n",
    "max: 700 millones. Lo que demuestra lo lucrativo que puede llegar a ser este mercado.\n"
   ]
  },
  {
   "cell_type": "markdown",
   "metadata": {},
   "source": [
    "***"
   ]
  },
  {
   "cell_type": "markdown",
   "metadata": {},
   "source": [
    "#### 9) Cuál es la facturación promedio de los juegos AAA más vendidos?"
   ]
  },
  {
   "cell_type": "code",
   "execution_count": 43,
   "metadata": {},
   "outputs": [
    {
     "data": {
      "text/html": [
       "<div>\n",
       "<style scoped>\n",
       "    .dataframe tbody tr th:only-of-type {\n",
       "        vertical-align: middle;\n",
       "    }\n",
       "\n",
       "    .dataframe tbody tr th {\n",
       "        vertical-align: top;\n",
       "    }\n",
       "\n",
       "    .dataframe thead th {\n",
       "        text-align: right;\n",
       "    }\n",
       "</style>\n",
       "<table border=\"1\" class=\"dataframe\">\n",
       "  <thead>\n",
       "    <tr style=\"text-align: right;\">\n",
       "      <th></th>\n",
       "      <th>total_sales</th>\n",
       "    </tr>\n",
       "  </thead>\n",
       "  <tbody>\n",
       "    <tr>\n",
       "      <th>count</th>\n",
       "      <td>20.00</td>\n",
       "    </tr>\n",
       "    <tr>\n",
       "      <th>mean</th>\n",
       "      <td>323750000.00</td>\n",
       "    </tr>\n",
       "    <tr>\n",
       "      <th>std</th>\n",
       "      <td>194035231.47</td>\n",
       "    </tr>\n",
       "    <tr>\n",
       "      <th>min</th>\n",
       "      <td>175000000.00</td>\n",
       "    </tr>\n",
       "    <tr>\n",
       "      <th>25%</th>\n",
       "      <td>210000000.00</td>\n",
       "    </tr>\n",
       "    <tr>\n",
       "      <th>50%</th>\n",
       "      <td>210000000.00</td>\n",
       "    </tr>\n",
       "    <tr>\n",
       "      <th>75%</th>\n",
       "      <td>337500000.00</td>\n",
       "    </tr>\n",
       "    <tr>\n",
       "      <th>max</th>\n",
       "      <td>900000000.00</td>\n",
       "    </tr>\n",
       "  </tbody>\n",
       "</table>\n",
       "</div>"
      ],
      "text/plain": [
       "       total_sales\n",
       "count        20.00\n",
       "mean  323750000.00\n",
       "std   194035231.47\n",
       "min   175000000.00\n",
       "25%   210000000.00\n",
       "50%   210000000.00\n",
       "75%   337500000.00\n",
       "max   900000000.00"
      ]
     },
     "execution_count": 43,
     "metadata": {},
     "output_type": "execute_result"
    }
   ],
   "source": [
    "df_not_indie[[\"total_sales\"]].sort_values(by = \"total_sales\", ascending = False).head(20).reset_index(drop = True).describe()"
   ]
  },
  {
   "cell_type": "markdown",
   "metadata": {},
   "source": [
    "Los AAA destacan al momento de facturación total, donde en promedio facturan el doble que los indies, con un promedio de 323 millones, mientras que sus percentiles son:\n",
    "25%: 210 millones,\n",
    "50%: 210 millones,\n",
    "75%: 337 millones,\n",
    "max: 900 millones. Lo que demuestra lo lucrativo que puede llegar a ser este mercado."
   ]
  },
  {
   "cell_type": "markdown",
   "metadata": {},
   "source": [
    "***"
   ]
  },
  {
   "cell_type": "markdown",
   "metadata": {},
   "source": [
    "#### 10) Cuáles fueron los Publisher que más juegos han sacado a la venta?"
   ]
  },
  {
   "cell_type": "code",
   "execution_count": 44,
   "metadata": {},
   "outputs": [
    {
     "data": {
      "text/plain": [
       "8floor                150\n",
       "Big Fish Games        120\n",
       "HH-Games              113\n",
       "                       88\n",
       "Laush Studio           67\n",
       "Sokpop Collective      65\n",
       "Piece Of Voxel         64\n",
       "Kagura Games           63\n",
       "Boogygames Studios     54\n",
       "William at Oxford      51\n",
       "Name: publisher, dtype: int64"
      ]
     },
     "execution_count": 44,
     "metadata": {},
     "output_type": "execute_result"
    }
   ],
   "source": [
    "df[\"publisher\"].value_counts().head(10)"
   ]
  },
  {
   "cell_type": "markdown",
   "metadata": {},
   "source": [
    "Como podemos apreciar, en su mayoría son Publisher pequeños, como es el caso de William at Oxford, aunque cabe resaltar grandes casas como 8floor.\n",
    "(Nota: el espacio vacío son juegos que han sido eliminados de Steam)."
   ]
  },
  {
   "cell_type": "markdown",
   "metadata": {},
   "source": [
    "***"
   ]
  },
  {
   "cell_type": "markdown",
   "metadata": {},
   "source": [
    "#### 11) Cuáles fueron los Publisher con las mayores ventas?"
   ]
  },
  {
   "cell_type": "code",
   "execution_count": 45,
   "metadata": {},
   "outputs": [
    {
     "data": {
      "text/html": [
       "<div>\n",
       "<style scoped>\n",
       "    .dataframe tbody tr th:only-of-type {\n",
       "        vertical-align: middle;\n",
       "    }\n",
       "\n",
       "    .dataframe tbody tr th {\n",
       "        vertical-align: top;\n",
       "    }\n",
       "\n",
       "    .dataframe thead th {\n",
       "        text-align: right;\n",
       "    }\n",
       "</style>\n",
       "<table border=\"1\" class=\"dataframe\">\n",
       "  <thead>\n",
       "    <tr style=\"text-align: right;\">\n",
       "      <th></th>\n",
       "      <th>total_sales</th>\n",
       "    </tr>\n",
       "    <tr>\n",
       "      <th>publisher</th>\n",
       "      <th></th>\n",
       "    </tr>\n",
       "  </thead>\n",
       "  <tbody>\n",
       "    <tr>\n",
       "      <th>Electronic Arts</th>\n",
       "      <td>1815275000</td>\n",
       "    </tr>\n",
       "    <tr>\n",
       "      <th>Xbox Game Studios</th>\n",
       "      <td>1525000000</td>\n",
       "    </tr>\n",
       "    <tr>\n",
       "      <th>Coffee Stain Publishing</th>\n",
       "      <td>911500000</td>\n",
       "    </tr>\n",
       "    <tr>\n",
       "      <th>CD PROJEKT RED</th>\n",
       "      <td>900000000</td>\n",
       "    </tr>\n",
       "    <tr>\n",
       "      <th>CAPCOM Co., Ltd.</th>\n",
       "      <td>779550000</td>\n",
       "    </tr>\n",
       "    <tr>\n",
       "      <th>TaleWorlds Entertainment</th>\n",
       "      <td>750000000</td>\n",
       "    </tr>\n",
       "    <tr>\n",
       "      <th>2K</th>\n",
       "      <td>665000000</td>\n",
       "    </tr>\n",
       "    <tr>\n",
       "      <th>Rockstar Games</th>\n",
       "      <td>550000000</td>\n",
       "    </tr>\n",
       "    <tr>\n",
       "      <th>SEGA</th>\n",
       "      <td>490600000</td>\n",
       "    </tr>\n",
       "    <tr>\n",
       "      <th>Activision (Excluding Japan and Asia)</th>\n",
       "      <td>450000000</td>\n",
       "    </tr>\n",
       "  </tbody>\n",
       "</table>\n",
       "</div>"
      ],
      "text/plain": [
       "                                       total_sales\n",
       "publisher                                         \n",
       "Electronic Arts                         1815275000\n",
       "Xbox Game Studios                       1525000000\n",
       "Coffee Stain Publishing                  911500000\n",
       "CD PROJEKT RED                           900000000\n",
       "CAPCOM Co., Ltd.                         779550000\n",
       "TaleWorlds Entertainment                 750000000\n",
       "2K                                       665000000\n",
       "Rockstar Games                           550000000\n",
       "SEGA                                     490600000\n",
       "Activision (Excluding Japan and Asia)    450000000"
      ]
     },
     "execution_count": 45,
     "metadata": {},
     "output_type": "execute_result"
    }
   ],
   "source": [
    "df.groupby([\"publisher\"])[[\"total_sales\"]].sum().sort_values(by = \"total_sales\", ascending= False).head(10)"
   ]
  },
  {
   "cell_type": "markdown",
   "metadata": {},
   "source": [
    "Aquí vemos un caso totalmente diferente, donde los todos los Publisher con más ventas son todos AAA, no se encuentra ninguna casa pequeña, y donde las ventas mínimas van desde los 450 millones, hasta los 1815 millones de dólares de facturación que genero Electronic Arts."
   ]
  },
  {
   "cell_type": "markdown",
   "metadata": {},
   "source": [
    "***"
   ]
  },
  {
   "cell_type": "markdown",
   "metadata": {},
   "source": [
    "#### 12) Cuáles fueron los developers que más juegos han sacado a la venta?"
   ]
  },
  {
   "cell_type": "code",
   "execution_count": 46,
   "metadata": {},
   "outputs": [
    {
     "data": {
      "text/plain": [
       "Creobit, 8floor                           71\n",
       "                                          67\n",
       "Sokpop Collective                         64\n",
       "Boogygames Studios                        54\n",
       "William at Oxford                         51\n",
       "Laush Dmitriy Sergeevich, Laush Studio    46\n",
       "Choice of Games                           44\n",
       "玫瑰工作室                                     40\n",
       "Blender Games                             40\n",
       "Somer Games, 8floor                       39\n",
       "Name: dev, dtype: int64"
      ]
     },
     "execution_count": 46,
     "metadata": {},
     "output_type": "execute_result"
    }
   ],
   "source": [
    "df[\"dev\"].value_counts().head(10)"
   ]
  },
  {
   "cell_type": "markdown",
   "metadata": {},
   "source": [
    "Aquí se puede apreciar algo muy curioso, hay developers que han llegado a crear hasta 71 juegos en tres años, lo que lo vuelve un poco extraño, dado a que la mayoría son developers pequeños y desconocidos."
   ]
  },
  {
   "cell_type": "markdown",
   "metadata": {},
   "source": [
    "***"
   ]
  },
  {
   "cell_type": "markdown",
   "metadata": {},
   "source": [
    "#### 13) Cuáles fueron los developers con las mayores ventas?"
   ]
  },
  {
   "cell_type": "code",
   "execution_count": 47,
   "metadata": {},
   "outputs": [
    {
     "data": {
      "text/html": [
       "<div>\n",
       "<style scoped>\n",
       "    .dataframe tbody tr th:only-of-type {\n",
       "        vertical-align: middle;\n",
       "    }\n",
       "\n",
       "    .dataframe tbody tr th {\n",
       "        vertical-align: top;\n",
       "    }\n",
       "\n",
       "    .dataframe thead th {\n",
       "        text-align: right;\n",
       "    }\n",
       "</style>\n",
       "<table border=\"1\" class=\"dataframe\">\n",
       "  <thead>\n",
       "    <tr style=\"text-align: right;\">\n",
       "      <th></th>\n",
       "      <th></th>\n",
       "      <th>total_sales</th>\n",
       "    </tr>\n",
       "    <tr>\n",
       "      <th>dev</th>\n",
       "      <th>owners</th>\n",
       "      <th></th>\n",
       "    </tr>\n",
       "  </thead>\n",
       "  <tbody>\n",
       "    <tr>\n",
       "      <th>CD PROJEKT RED</th>\n",
       "      <th>10,000,000 - 20,000,000</th>\n",
       "      <td>900000000</td>\n",
       "    </tr>\n",
       "    <tr>\n",
       "      <th>TaleWorlds Entertainment</th>\n",
       "      <th>10,000,000 - 20,000,000</th>\n",
       "      <td>750000000</td>\n",
       "    </tr>\n",
       "    <tr>\n",
       "      <th>Iron Gate AB, Coffee Stain Publishing</th>\n",
       "      <th>20,000,000 - 50,000,000</th>\n",
       "      <td>700000000</td>\n",
       "    </tr>\n",
       "    <tr>\n",
       "      <th>Rockstar Games</th>\n",
       "      <th>5,000,000 - 10,000,000</th>\n",
       "      <td>450000000</td>\n",
       "    </tr>\n",
       "    <tr>\n",
       "      <th>Activision (Excluding Japan and Asia), FromSoftware (Japan), FromSoftware, 方块游戏 (Asia)</th>\n",
       "      <th>5,000,000 - 10,000,000</th>\n",
       "      <td>450000000</td>\n",
       "    </tr>\n",
       "    <tr>\n",
       "      <th>Electronic Arts, DICE</th>\n",
       "      <th>5,000,000 - 10,000,000</th>\n",
       "      <td>450000000</td>\n",
       "    </tr>\n",
       "    <tr>\n",
       "      <th>Xbox Game Studios, Playground Games</th>\n",
       "      <th>2,000,000 - 5,000,000</th>\n",
       "      <td>420000000</td>\n",
       "    </tr>\n",
       "    <tr>\n",
       "      <th>DICE, Electronic Arts</th>\n",
       "      <th>2,000,000 - 5,000,000</th>\n",
       "      <td>315000000</td>\n",
       "    </tr>\n",
       "    <tr>\n",
       "      <th>Rare Ltd, Xbox Game Studios</th>\n",
       "      <th>5,000,000 - 10,000,000</th>\n",
       "      <td>300000000</td>\n",
       "    </tr>\n",
       "    <tr>\n",
       "      <th>Ruffian Games, Splash Damage, Xbox Game Studios, 343 Industries, Bungie, Saber Interactive</th>\n",
       "      <th>5,000,000 - 10,000,000</th>\n",
       "      <td>300000000</td>\n",
       "    </tr>\n",
       "  </tbody>\n",
       "</table>\n",
       "</div>"
      ],
      "text/plain": [
       "                                                                            total_sales\n",
       "dev                                                owners                              \n",
       "CD PROJEKT RED                                     10,000,000 - 20,000,000    900000000\n",
       "TaleWorlds Entertainment                           10,000,000 - 20,000,000    750000000\n",
       "Iron Gate AB, Coffee Stain Publishing              20,000,000 - 50,000,000    700000000\n",
       "Rockstar Games                                     5,000,000 - 10,000,000     450000000\n",
       "Activision (Excluding Japan and Asia), FromSoft... 5,000,000 - 10,000,000     450000000\n",
       "Electronic Arts, DICE                              5,000,000 - 10,000,000     450000000\n",
       "Xbox Game Studios, Playground Games                2,000,000 - 5,000,000      420000000\n",
       "DICE, Electronic Arts                              2,000,000 - 5,000,000      315000000\n",
       "Rare Ltd, Xbox Game Studios                        5,000,000 - 10,000,000     300000000\n",
       "Ruffian Games, Splash Damage, Xbox Game Studios... 5,000,000 - 10,000,000     300000000"
      ]
     },
     "execution_count": 47,
     "metadata": {},
     "output_type": "execute_result"
    }
   ],
   "source": [
    "df.groupby([\"dev\", \"owners\"])[[\"total_sales\"]].sum().sort_values(by = \"total_sales\", ascending= False).head(10)"
   ]
  },
  {
   "cell_type": "markdown",
   "metadata": {},
   "source": [
    "Como no es sorpresa, se vuelve a ver que los developers con mayores ganancias son todos AAA, y resalta mucho la atención en el caso de CD Projekt Red donde es publicador y distribuidor a la vez, lo que le permite quedarse con toda la facturación, que son unos 900 millones de dólares. El que menos vendió de los que más vende en la lista llego a los 300 millones."
   ]
  },
  {
   "cell_type": "markdown",
   "metadata": {},
   "source": [
    "***"
   ]
  },
  {
   "cell_type": "markdown",
   "metadata": {},
   "source": [
    "#### 14) Cuántos juegos se publican al día?"
   ]
  },
  {
   "cell_type": "code",
   "execution_count": 48,
   "metadata": {},
   "outputs": [
    {
     "data": {
      "text/plain": [
       "25.454794520547946"
      ]
     },
     "execution_count": 48,
     "metadata": {},
     "output_type": "execute_result"
    }
   ],
   "source": [
    "total_games / (365 * 3)"
   ]
  },
  {
   "cell_type": "markdown",
   "metadata": {},
   "source": [
    "Es alarmante el número de juegos que se publican al día en Steam, lo que vuelve difícil el poder sobresalir en este mercado / tienda de videojuegos."
   ]
  },
  {
   "cell_type": "markdown",
   "metadata": {},
   "source": [
    "***"
   ]
  },
  {
   "cell_type": "markdown",
   "metadata": {},
   "source": [
    "#### 15) Cuántos juegos se han vendido en promedio al día en Steam?"
   ]
  },
  {
   "cell_type": "code",
   "execution_count": 49,
   "metadata": {},
   "outputs": [
    {
     "data": {
      "text/plain": [
       "1436735.1598173515"
      ]
     },
     "execution_count": 49,
     "metadata": {},
     "output_type": "execute_result"
    }
   ],
   "source": [
    "sales_per_day / (365 * 3)"
   ]
  },
  {
   "cell_type": "markdown",
   "metadata": {},
   "source": [
    "En promedio al día se venden 1.4 millones de juegos en Steam."
   ]
  },
  {
   "cell_type": "code",
   "execution_count": 50,
   "metadata": {},
   "outputs": [
    {
     "data": {
      "text/plain": [
       "1573225000"
      ]
     },
     "execution_count": 50,
     "metadata": {},
     "output_type": "execute_result"
    }
   ],
   "source": [
    "sales_per_day"
   ]
  },
  {
   "cell_type": "markdown",
   "metadata": {},
   "source": [
    "En total en los últimos 3 años en Steam se han vendido 1.5 billones de juegos, muy impresionante."
   ]
  },
  {
   "cell_type": "code",
   "execution_count": 51,
   "metadata": {},
   "outputs": [
    {
     "data": {
      "text/plain": [
       "850845000"
      ]
     },
     "execution_count": 51,
     "metadata": {},
     "output_type": "execute_result"
    }
   ],
   "source": [
    "df_indie[\"mean_sales\"].sum()"
   ]
  },
  {
   "cell_type": "markdown",
   "metadata": {},
   "source": [
    "Los Indies representan el 54% de las ventas totales."
   ]
  },
  {
   "cell_type": "code",
   "execution_count": 52,
   "metadata": {},
   "outputs": [
    {
     "data": {
      "text/plain": [
       "722380000"
      ]
     },
     "execution_count": 52,
     "metadata": {},
     "output_type": "execute_result"
    }
   ],
   "source": [
    "df_not_indie[\"mean_sales\"].sum()"
   ]
  },
  {
   "cell_type": "markdown",
   "metadata": {},
   "source": [
    "Los triple AAA representan el 46% de las ventas."
   ]
  },
  {
   "cell_type": "markdown",
   "metadata": {},
   "source": [
    "***"
   ]
  },
  {
   "cell_type": "markdown",
   "metadata": {},
   "source": [
    "#### 16) Cuál es el mes con más reléase?"
   ]
  },
  {
   "cell_type": "code",
   "execution_count": 53,
   "metadata": {},
   "outputs": [],
   "source": [
    "df_date = pd.to_datetime(df[\"release\"]).dt.month"
   ]
  },
  {
   "cell_type": "code",
   "execution_count": 54,
   "metadata": {},
   "outputs": [
    {
     "name": "stderr",
     "output_type": "stream",
     "text": [
      "c:\\Users\\gcuci\\AppData\\Local\\Programs\\Python\\Python37\\lib\\site-packages\\pandas\\core\\series.py:1056: SettingWithCopyWarning: modifications to a property of a datetimelike object are not supported and are discarded. Change values on the original.\n",
      "  cacher_needs_updating = self._check_is_chained_assignment_possible()\n",
      "c:\\Users\\gcuci\\AppData\\Local\\Programs\\Python\\Python37\\lib\\site-packages\\pandas\\core\\indexing.py:1724: SettingWithCopyWarning: modifications to a property of a datetimelike object are not supported and are discarded. Change values on the original.\n",
      "  self._setitem_with_indexer_missing(indexer, value)\n"
     ]
    }
   ],
   "source": [
    "df_date[\"month\"] = df[\"release\"].dt.month_name()"
   ]
  },
  {
   "cell_type": "markdown",
   "metadata": {},
   "source": [
    "Todos los juegos"
   ]
  },
  {
   "cell_type": "code",
   "execution_count": 55,
   "metadata": {},
   "outputs": [
    {
     "data": {
      "text/plain": [
       "October      2767\n",
       "December     2517\n",
       "November     2465\n",
       "August       2426\n",
       "September    2398\n",
       "May          2297\n",
       "July         2279\n",
       "March        2221\n",
       "April        2213\n",
       "February     2201\n",
       "June         2089\n",
       "January      2000\n",
       "Name: release, dtype: int64"
      ]
     },
     "execution_count": 55,
     "metadata": {},
     "output_type": "execute_result"
    }
   ],
   "source": [
    "df_date[\"month\"].value_counts()"
   ]
  },
  {
   "cell_type": "markdown",
   "metadata": {},
   "source": [
    "Los meses con mayores reléase se producen el segundo semestre, para ser más específico, octubre, noviembre y diciembre. Este es el caso de todos los videojuegos."
   ]
  },
  {
   "cell_type": "markdown",
   "metadata": {},
   "source": [
    "***"
   ]
  },
  {
   "cell_type": "markdown",
   "metadata": {},
   "source": [
    "Indies"
   ]
  },
  {
   "cell_type": "code",
   "execution_count": 56,
   "metadata": {},
   "outputs": [
    {
     "name": "stderr",
     "output_type": "stream",
     "text": [
      "C:\\Users\\gcuci\\AppData\\Roaming\\Python\\Python37\\site-packages\\ipykernel_launcher.py:1: SettingWithCopyWarning: \n",
      "A value is trying to be set on a copy of a slice from a DataFrame.\n",
      "Try using .loc[row_indexer,col_indexer] = value instead\n",
      "\n",
      "See the caveats in the documentation: https://pandas.pydata.org/pandas-docs/stable/user_guide/indexing.html#returning-a-view-versus-a-copy\n",
      "  \"\"\"Entry point for launching an IPython kernel.\n"
     ]
    }
   ],
   "source": [
    "df_indie[\"month\"] = df[\"release\"].dt.month_name()"
   ]
  },
  {
   "cell_type": "code",
   "execution_count": 57,
   "metadata": {},
   "outputs": [
    {
     "data": {
      "text/plain": [
       "October      2042\n",
       "August       1815\n",
       "November     1801\n",
       "December     1780\n",
       "September    1778\n",
       "May          1728\n",
       "April        1675\n",
       "July         1659\n",
       "February     1648\n",
       "March        1602\n",
       "January      1507\n",
       "June         1492\n",
       "Name: month, dtype: int64"
      ]
     },
     "execution_count": 57,
     "metadata": {},
     "output_type": "execute_result"
    }
   ],
   "source": [
    "df_indie[\"month\"].value_counts()"
   ]
  },
  {
   "cell_type": "markdown",
   "metadata": {},
   "source": [
    "En el caso de los Indie, ocurren exactamente lo mismo, solo que el mes con los mayores reléase es octubre."
   ]
  },
  {
   "cell_type": "markdown",
   "metadata": {},
   "source": [
    "***"
   ]
  },
  {
   "cell_type": "markdown",
   "metadata": {},
   "source": [
    "AAA"
   ]
  },
  {
   "cell_type": "code",
   "execution_count": 58,
   "metadata": {},
   "outputs": [
    {
     "ename": "NameError",
     "evalue": "name 'df_total_sales_not_indie' is not defined",
     "output_type": "error",
     "traceback": [
      "\u001b[1;31m---------------------------------------------------------------------------\u001b[0m",
      "\u001b[1;31mNameError\u001b[0m                                 Traceback (most recent call last)",
      "\u001b[1;32m~\\AppData\\Local\\Temp\\ipykernel_24160\\2565199753.py\u001b[0m in \u001b[0;36m<module>\u001b[1;34m\u001b[0m\n\u001b[1;32m----> 1\u001b[1;33m \u001b[0mdf_total_sales_not_indie\u001b[0m\u001b[1;33m[\u001b[0m\u001b[1;34m\"month\"\u001b[0m\u001b[1;33m]\u001b[0m \u001b[1;33m=\u001b[0m \u001b[0mdf\u001b[0m\u001b[1;33m[\u001b[0m\u001b[1;34m\"release\"\u001b[0m\u001b[1;33m]\u001b[0m\u001b[1;33m.\u001b[0m\u001b[0mdt\u001b[0m\u001b[1;33m.\u001b[0m\u001b[0mmonth_name\u001b[0m\u001b[1;33m(\u001b[0m\u001b[1;33m)\u001b[0m\u001b[1;33m\u001b[0m\u001b[1;33m\u001b[0m\u001b[0m\n\u001b[0m",
      "\u001b[1;31mNameError\u001b[0m: name 'df_total_sales_not_indie' is not defined"
     ]
    }
   ],
   "source": [
    "df_total_sales_not_indie[\"month\"] = df[\"release\"].dt.month_name()"
   ]
  },
  {
   "cell_type": "code",
   "execution_count": null,
   "metadata": {},
   "outputs": [
    {
     "ename": "NameError",
     "evalue": "name 'df_total_sales_not_indie' is not defined",
     "output_type": "error",
     "traceback": [
      "\u001b[1;31m---------------------------------------------------------------------------\u001b[0m",
      "\u001b[1;31mNameError\u001b[0m                                 Traceback (most recent call last)",
      "\u001b[1;32m~\\AppData\\Local\\Temp\\ipykernel_2608\\3307755509.py\u001b[0m in \u001b[0;36m<module>\u001b[1;34m\u001b[0m\n\u001b[1;32m----> 1\u001b[1;33m \u001b[0mdf_total_sales_not_indie\u001b[0m\u001b[1;33m[\u001b[0m\u001b[1;34m\"month\"\u001b[0m\u001b[1;33m]\u001b[0m\u001b[1;33m.\u001b[0m\u001b[0mvalue_counts\u001b[0m\u001b[1;33m(\u001b[0m\u001b[1;33m)\u001b[0m\u001b[1;33m\u001b[0m\u001b[1;33m\u001b[0m\u001b[0m\n\u001b[0m",
      "\u001b[1;31mNameError\u001b[0m: name 'df_total_sales_not_indie' is not defined"
     ]
    }
   ],
   "source": [
    "df_total_sales_not_indie[\"month\"].value_counts()"
   ]
  },
  {
   "cell_type": "markdown",
   "metadata": {},
   "source": [
    "En el caso de los AAA los mayores reléase se producen en la misma fecha que todos los videojuegos en promedio, siendo diciembre el mes con mayores publicaciones."
   ]
  },
  {
   "cell_type": "markdown",
   "metadata": {},
   "source": [
    "***"
   ]
  },
  {
   "cell_type": "markdown",
   "metadata": {},
   "source": [
    "#### 17) Cuál es el descuento más utilizado por los Publisher?"
   ]
  },
  {
   "cell_type": "code",
   "execution_count": 59,
   "metadata": {},
   "outputs": [
    {
     "data": {
      "text/plain": [
       "count   27873.00\n",
       "mean       27.82\n",
       "std        30.06\n",
       "min         0.00\n",
       "25%         0.00\n",
       "50%        20.00\n",
       "75%        50.00\n",
       "max       100.00\n",
       "Name: discount, dtype: float64"
      ]
     },
     "execution_count": 59,
     "metadata": {},
     "output_type": "execute_result"
    }
   ],
   "source": [
    "df[\"discount\"].describe()"
   ]
  },
  {
   "cell_type": "markdown",
   "metadata": {},
   "source": [
    "El descuento en promedio es del 27%, y el máximo se ubica al 100%."
   ]
  },
  {
   "cell_type": "code",
   "execution_count": 60,
   "metadata": {},
   "outputs": [
    {
     "data": {
      "text/plain": [
       "0     13071\n",
       "50     3006\n",
       "75     1219\n",
       "51     1075\n",
       "30     1055\n",
       "40     1019\n",
       "60      982\n",
       "90      809\n",
       "20      696\n",
       "80      693\n",
       "Name: discount, dtype: int64"
      ]
     },
     "execution_count": 60,
     "metadata": {},
     "output_type": "execute_result"
    }
   ],
   "source": [
    "df[\"discount\"].value_counts().sort_values(ascending = False).head(10)"
   ]
  },
  {
   "cell_type": "markdown",
   "metadata": {},
   "source": [
    "Y el descuento que más se repite es del 50%, seguido del 75% y 71% respectivamente; Cabe resaltar que casi la mitad de los videojuegos (13.071) no posee algún descuento, interesante, considerando que estamos en promociones de verano."
   ]
  },
  {
   "cell_type": "markdown",
   "metadata": {},
   "source": [
    "***"
   ]
  },
  {
   "cell_type": "markdown",
   "metadata": {},
   "source": [
    "#### 18) Shovelgames? El caso William at Oxford"
   ]
  },
  {
   "cell_type": "markdown",
   "metadata": {},
   "source": [
    "Curiosidad del EDA:\n",
    "\n",
    "Cabe resaltar que esto era totalmente desconocido para mí, existe un concepto llamado Shovelgames, lo que quiere decir que son juegos que se realizan en dos o tres días, es decir de baja calidad, que son publicados de una manera masiva para buscar generar algunas ventas, un caso muy claro y que llamo la atención es William at Oxford. Es tan grande el problema que Steam en los últimos años ha eliminado miles de juegos para \"tratar\" de solucionar este problema.\n"
   ]
  },
  {
   "cell_type": "markdown",
   "metadata": {},
   "source": [
    "***"
   ]
  }
 ],
 "metadata": {
  "kernelspec": {
   "display_name": "Python 3.7.4 64-bit",
   "language": "python",
   "name": "python3"
  },
  "language_info": {
   "codemirror_mode": {
    "name": "ipython",
    "version": 3
   },
   "file_extension": ".py",
   "mimetype": "text/x-python",
   "name": "python",
   "nbconvert_exporter": "python",
   "pygments_lexer": "ipython3",
   "version": "3.7.4"
  },
  "orig_nbformat": 4,
  "vscode": {
   "interpreter": {
    "hash": "3ba41e56ef9deeeff1538fa5cea94c765dc1a1d06381c0b52990c9724a8d0615"
   }
  }
 },
 "nbformat": 4,
 "nbformat_minor": 2
}
